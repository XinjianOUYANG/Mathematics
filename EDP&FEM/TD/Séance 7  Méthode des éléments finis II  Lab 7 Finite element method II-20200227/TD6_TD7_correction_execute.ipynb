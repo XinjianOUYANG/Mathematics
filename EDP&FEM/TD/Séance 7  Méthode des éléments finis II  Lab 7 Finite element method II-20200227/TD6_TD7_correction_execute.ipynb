{
 "cells": [
  {
   "cell_type": "markdown",
   "metadata": {
    "toc": true
   },
   "source": [
    "<h1>Invisibilité thermique<span class=\"tocSkip\"></span></h1>\n",
    "<div class=\"toc\"><ul class=\"toc-item\"><li><span><a href=\"#Présentation-du-problème\" data-toc-modified-id=\"Présentation-du-problème-1\"><span class=\"toc-item-num\">1&nbsp;&nbsp;</span>Présentation du problème</a></span></li><li><span><a href=\"#Adimensionnement-et-formulation-variationnelle\" data-toc-modified-id=\"Adimensionnement-et-formulation-variationnelle-2\"><span class=\"toc-item-num\">2&nbsp;&nbsp;</span>Adimensionnement et formulation variationnelle</a></span></li><li><span><a href=\"#Démarche\" data-toc-modified-id=\"Démarche-3\"><span class=\"toc-item-num\">3&nbsp;&nbsp;</span>Démarche</a></span></li><li><span><a href=\"#1D-:-Simulation-du-problème-stationnaire\" data-toc-modified-id=\"1D-:-Simulation-du-problème-stationnaire-4\"><span class=\"toc-item-num\">4&nbsp;&nbsp;</span>1D : Simulation du problème stationnaire</a></span><ul class=\"toc-item\"><li><span><a href=\"#Programme-1-:-Résolution-en-dimension-1\" data-toc-modified-id=\"Programme-1-:-Résolution-en-dimension-1-4.1\"><span class=\"toc-item-num\">4.1&nbsp;&nbsp;</span>Programme 1 : Résolution en dimension 1</a></span></li><li><span><a href=\"#Ordre-numérique-de-la-méthode-$\\mathbb{P}1$.\" data-toc-modified-id=\"Ordre-numérique-de-la-méthode-$\\mathbb{P}1$.-4.2\"><span class=\"toc-item-num\">4.2&nbsp;&nbsp;</span>Ordre numérique de la méthode $\\mathbb{P}1$.</a></span></li><li><span><a href=\"#Programme-2-:-Résolution-du-même-problème-en-dimension-2\" data-toc-modified-id=\"Programme-2-:-Résolution-du-même-problème-en-dimension-2-4.3\"><span class=\"toc-item-num\">4.3&nbsp;&nbsp;</span>Programme 2 : Résolution du même problème en dimension 2</a></span></li></ul></li><li><span><a href=\"#2D-:-Premiers-calculs-de-flux-intégrés\" data-toc-modified-id=\"2D-:-Premiers-calculs-de-flux-intégrés-5\"><span class=\"toc-item-num\">5&nbsp;&nbsp;</span>2D : Premiers calculs de flux intégrés</a></span></li><li><span><a href=\"#2D-:-Simulation-du-problème-stationnaire-avec-conductivité-constante-et-flux-non-constant\" data-toc-modified-id=\"2D-:-Simulation-du-problème-stationnaire-avec-conductivité-constante-et-flux-non-constant-6\"><span class=\"toc-item-num\">6&nbsp;&nbsp;</span>2D : Simulation du problème stationnaire avec conductivité constante et flux non constant</a></span></li><li><span><a href=\"#2D-:-Simulation-du-problème-stationnaire-en-domaine-troué-fixe\" data-toc-modified-id=\"2D-:-Simulation-du-problème-stationnaire-en-domaine-troué-fixe-7\"><span class=\"toc-item-num\">7&nbsp;&nbsp;</span>2D : Simulation du problème stationnaire en domaine troué fixe</a></span><ul class=\"toc-item\"><li><span><a href=\"#Adaptation-de-la-géométrie\" data-toc-modified-id=\"Adaptation-de-la-géométrie-7.1\"><span class=\"toc-item-num\">7.1&nbsp;&nbsp;</span>Adaptation de la géométrie</a></span></li><li><span><a href=\"#Adaptation-de-la-conductivité\" data-toc-modified-id=\"Adaptation-de-la-conductivité-7.2\"><span class=\"toc-item-num\">7.2&nbsp;&nbsp;</span>Adaptation de la conductivité</a></span></li></ul></li><li><span><a href=\"#Simulation-du-problème-stationnaire-en-domaine-troué-aléatoirement\" data-toc-modified-id=\"Simulation-du-problème-stationnaire-en-domaine-troué-aléatoirement-8\"><span class=\"toc-item-num\">8&nbsp;&nbsp;</span>Simulation du problème stationnaire en domaine troué aléatoirement</a></span></li><li><span><a href=\"#Conclusion\" data-toc-modified-id=\"Conclusion-9\"><span class=\"toc-item-num\">9&nbsp;&nbsp;</span>Conclusion</a></span></li><li><span><a href=\"#Bibliographie\" data-toc-modified-id=\"Bibliographie-10\"><span class=\"toc-item-num\">10&nbsp;&nbsp;</span>Bibliographie</a></span><ul class=\"toc-item\"><li><span><a href=\"#FEniCS\" data-toc-modified-id=\"FEniCS-10.1\"><span class=\"toc-item-num\">10.1&nbsp;&nbsp;</span>FEniCS</a></span></li><li><span><a href=\"#Markdown\" data-toc-modified-id=\"Markdown-10.2\"><span class=\"toc-item-num\">10.2&nbsp;&nbsp;</span>Markdown</a></span></li></ul></li></ul></div>"
   ]
  },
  {
   "cell_type": "markdown",
   "metadata": {},
   "source": [
    "**Préliminaire** Les questions \"sur papier\" sont notées **Q** et les questions de programmation **P**."
   ]
  },
  {
   "cell_type": "markdown",
   "metadata": {},
   "source": [
    "# Présentation du problème"
   ]
  },
  {
   "cell_type": "markdown",
   "metadata": {},
   "source": [
    "![caption](images/domaine1.png)"
   ]
  },
  {
   "cell_type": "markdown",
   "metadata": {},
   "source": [
    "On va s'intéresser à l'équation de la chaleur sur un rectangle $\\Omega=ABCD$ avec conditions aux limites mêlées et de terme source nul :\n",
    "\n",
    "\n",
    "\\begin{equation}\\label{eq1:evol}\n",
    " \\tag{P} \\begin{cases}\n",
    "   \\rho c_{p} \\partial_t \\theta-div(\\kappa\\ grad(\\theta))=0\\mbox{ dans  }\\Omega,\\\\\n",
    "\\theta(0,\\cdot)=\\theta_{0},\\\\(CL)\n",
    "\\begin{cases}\n",
    "\\kappa \\partial_{n}\\theta=0 \\qquad \\mbox{ sur }[AB]\\\\\n",
    " \\theta=\\theta_{0}\\qquad \\mbox{ sur }[BC]\\\\\n",
    "\\kappa_n\\partial_{n}\\theta=0 \\qquad \\mbox{ sur }[CD]\\\\\n",
    "\\kappa_n\\partial_{n}\\theta=\\psi\\qquad \\mbox{ sur }[DA],\\\\\n",
    "\\end{cases}\n",
    "  \\end{cases}\n",
    "\\end{equation}\n",
    "\n",
    "\n",
    "où les valeurs numériques sont\n",
    "\n",
    "\n",
    "\\begin{equation*}\n",
    "\\begin{cases}\n",
    "X=d(A,B)=d(C,D)=10^{-2}\\,m\\\\\n",
    "Y=d(B,C)=d(D,A)=20\\,m\\\\\n",
    "\\rho=4000\\,kg.m^{-3}\\\\\n",
    "c_{p}=1000\\,J.kg^{-1}.K^{-1}\\\\\n",
    "\\theta_{0}=275\\,K\\\\\n",
    "\\psi=\n",
    "\\psi_{0}=100 \\, W.m^{-2}\\\\\n",
    "\\end{cases}\n",
    "\\end{equation*}\n",
    "\n",
    "et $\\kappa:(x,y)\\mapsto diag(\\kappa_x(x,y),\\kappa_y(x,y))$, avec $\\kappa_x$ et $\\kappa_y$ deux fonctions données. On note $\\kappa_n$ la diffusivité sur le bord par analogie avec la notation de la dérivée normale.\n",
    "\n",
    "Par ailleurs, l'équation d'évolution permet de décrire un régime\n",
    "transitoire vers un état stationnaire solution de \n",
    "\n",
    "\n",
    "\\begin{equation}\\tag{Pinf}\n",
    "  \\begin{cases}\n",
    "    -div(\\kappa\\ grad(\\theta))=0\\mbox{ dans  }\\Omega,\\\\\n",
    "(CL)  \\end{cases}\n",
    "\\end{equation}"
   ]
  },
  {
   "cell_type": "markdown",
   "metadata": {},
   "source": [
    "Le but de ce TP est de calculer numériquement la température sur le bord $[DA]$\n",
    "et le flux de chaleur sur le bord $[BC]$ afin de comprendre comment valider de\n",
    "manière croisée les simulations numériques et les solutions exactes en dimension 1, puis de calculer efficacement la température dans un domaine troué.\n",
    "\n",
    "Dans un premier temps, on validera le modèle sur un cas de diffusion unidimensionnel, en $x$, en supposant que $\\psi$ est constante égale à $\\psi_{0}$, $\\kappa=k I_2$ avec $k$ constante égale à $1\\, W.m^{-1}.K^{-1}$ et que la température sur le bord $[BC]$ vaut uniformément $\\theta_0$. "
   ]
  },
  {
   "cell_type": "markdown",
   "metadata": {},
   "source": [
    "**Q.1** Justifier cette affirmation, dans ce cas où $\\kappa$, $\\psi$ et $\\theta_{0}$ sont des fonctions constantes : pourquoi peut-on considérer que la solution $\\theta$ ne dépendra pas de $y$ ? "
   ]
  },
  {
   "cell_type": "markdown",
   "metadata": {},
   "source": [
    "**Solution** \n",
    "\n",
    "$Z:=\\partial_{y}\\theta$ satisfait à (P) avec une condition initiale nulle ($\\theta(0,\\cdot)$ ne dépend pas de $y$), une condition au bord de Dirichlet homogène sur $[AB]$, $[BC]$ et $[CD]$, $Z(t,\\cdot)|_{[AB],[BC],[CD]}=0$ et une condition de Neumann homogène sur $[DA]$ car \n",
    "$$\\kappa\\partial_{n}Z(t,\\cdot)|_{[DA]}=-k\\partial_{x}\\partial_{y}\\theta|_{[DA]}=-k\\partial_{y}\\partial_{x}\\theta|_{[DA]}=\\partial_{y}\\psi_{0}=0.$$ \n",
    "\n",
    "Montrons que $Z:=\\partial_{y}\\theta$ est nulle.\n",
    "\n",
    "Si on suppose que pour tout $t\\geq0$, $Z(t,\\cdot)\\in L^{2}(\\Omega)$, que\n",
    "$Z:t\\mapsto Z(t,\\cdot)$ est continue en $t=0$ et enfin que $Z$ est dérivable en temps, de dérivée $\\partial_{t}Z(t)\\in L^{2}(\\Omega)$, $\\forall t>0$,\n",
    "alors, en étudiant $E:t\\mapsto\\frac{1}{2}\\int_{\\Omega}\\rho c_{p} Z(t,\\cdot)^{2}$ (tout cela sera démontré dans le dernier cours d'EDP !), on a pour $t>0$\n",
    "\n",
    "\\begin{align*}\n",
    "\\dfrac{d}{dt}E(t)&=\\int_{\\Omega}\\rho c_{p}Z(t,\\cdot)\\partial_{t}Z(t,\\cdot)=\\int_{\\Omega} k Z(t,\\cdot)\\Delta Z(t,\\cdot)\\\\\n",
    "&=-\\int_{\\Omega}k \\|\\nabla Z(t,\\cdot)\\|^{2}+\\underbrace{\\int_{\\partial\\Omega} k Z(t,\\cdot)(\\nabla Z(t,\\cdot)\\cdot n)}_{\\underset{\\mbox{ et de dérivée normale nulle sur }{\\normalsize [DA]}}{=0\\mbox{ car }Z=0 \\mbox{ sur les bords }[AB],\\,[BC],\\,[CD]}}\\\\\n",
    "&\\leq 0.\n",
    "\\end{align*}\n",
    "\n",
    "La quantité $E$ est donc décroissante. Comme elle est positive en tout temps et qu'elle est nulle en $t=0$, elle est nulle en tout temps. On en déduit que $Z$ est nulle.\n",
    "\n",
    "Remarquons que l'unicité de la solution de la formulation variationnelle mène à la même conclusion... $\\Box$"
   ]
  },
  {
   "cell_type": "markdown",
   "metadata": {},
   "source": [
    "**Q.2** Réécrire le problème (P) en une dimension d'espace ($x$). On le numérotera (P1)."
   ]
  },
  {
   "cell_type": "markdown",
   "metadata": {},
   "source": [
    "**Solution** \n",
    "  On note $X$ la longueur du segment. \n",
    "\\begin{equation}\\tag{P1}\n",
    " \\begin{cases}\n",
    "   \\rho c_{p} \\partial_t \\theta-\\partial_x(k\\ \\partial_{x} \\theta)=0\\mbox{ dans  }]0,L[,\\\\\n",
    "\\theta(0,\\cdot)=\\theta_{0},\\\\(CL1D)\n",
    "\\begin{cases}\n",
    "-\\kappa \\theta'(\\cdot,0)=\\psi\\\\\n",
    " \\theta(\\cdot,L)=\\theta_{0}\\end{cases}\n",
    "  \\end{cases}\n",
    "  \\end{equation} $\\Box$"
   ]
  },
  {
   "cell_type": "markdown",
   "metadata": {},
   "source": [
    "**Q.3** Écrire le système stationnaire associé à (P1) et le résoudre explicitement. On notera $\\theta^{\\infty}$ la solution. "
   ]
  },
  {
   "cell_type": "markdown",
   "metadata": {},
   "source": [
    "**Solution** \\begin{equation*}\n",
    " \\begin{cases}\n",
    "-\\partial_x(k\\ \\partial_{x} \\theta)=0\\mbox{ dans  }]0,X[,\\\\\n",
    "(CL1D)\n",
    "\\begin{cases}\n",
    "-k \\theta'(0)=\\psi\\\\\n",
    " \\theta(X)=\\theta_{0}\\end{cases}\n",
    "  \\end{cases}\n",
    "  \\end{equation*}\n",
    "Donc $\\theta^\\infty:x\\mapsto \\theta_0+\\psi (X-x)/k$. $\\Box$"
   ]
  },
  {
   "cell_type": "markdown",
   "metadata": {},
   "source": [
    "#  Adimensionnement et formulation variationnelle"
   ]
  },
  {
   "cell_type": "markdown",
   "metadata": {},
   "source": [
    "**Q.1** Mettre (P) sous forme adimensionnée par rapport à un temps d'observation $T_{obs}$, une longueur d'observation en $x$, $X_{obs}$, une longueur d'observation en $y$, $Y_{obs}$ et la température $\\theta_0$. \n",
    "\n",
    "On aura ainsi une équation d'évolution sous la forme\n",
    "\n",
    "\\begin{equation}\\label{eq1:evol_adim}\n",
    "\\tag{Padim}\\begin{cases}\n",
    "\\partial_{tˆ^{*}}\\theta^{*}-\\partial_x(\\kappa_{x}^{*}\\partial_{x^{*}}\\theta^{*})-\\partial(\\kappa_{y}^{*}\\partial_{y^{*}}\\theta^{*})=0\\mbox{ dans }\\Omega^{*}\\\\\n",
    "(CL)^{*}\n",
    "\\begin{cases}\n",
    "\\kappa^*_n\\partial_{n^{*}}\\theta^{*}=0 \\qquad \\mbox{ sur }[A^{*}B^{*}]\\\\\n",
    "\\theta^{*}=1 \\qquad \\mbox{ sur }[B^{*}C^{*}]\\\\\n",
    "\\kappa^*_n\\partial_{n^{*}}\\theta=0 \\qquad \\mbox{ sur }[C^{*}D^{*}]\\\\\n",
    "\\kappa^*_n\\partial_{n^{*}}\\theta^{*}=\\psi^{*} \\qquad \\mbox{ sur }[D^{*}A^{*}],\\\\\n",
    "\\end{cases}\n",
    "\\end{cases}\n",
    "\\end{equation}\n",
    "\n",
    "où les quantités étoilées sont adimensionnées et $\\kappa_x^*$, $\\kappa_{y}^{*}$ et $\\kappa_{n}^{*}$ sont les constantes de diffusivité thermiques adimensionnées dans chaque direction $x$, $y$ et normale au bord."
   ]
  },
  {
   "cell_type": "markdown",
   "metadata": {},
   "source": [
    "**Solution** Les quantités sont donc\n",
    "$\\theta=\\theta_{0}\\theta^{*}$,  \n",
    "$x=X_{obs}x^{*}$,  \n",
    "$y=Y_{obs}y^{*}$,  \n",
    "$\\psi^{*}=\\psi T_{obs}\\theta_{0}/(\\rho c_p X_{obs})$,  \n",
    "$\\kappa_{x}^{*}=\\kappa_x T_{obs}/(\\rho c_{p}X_{obs}^{2})$,  \n",
    "$\\kappa_{y}^{*}=\\kappa_x T_{obs}/(\\rho c_{p}Y_{obs}^{2})$,  \n",
    "$\\kappa_{n}^{*}=\\kappa_{x}^{*}$  \n",
    "où $\\kappa_{n}^{*}=\\kappa_{y}^{*}$ suivant la direction de la normale.  \n",
    "Le domaine adimensionné est $\\Omega^*=\\ ]0,X_{obs}[\\times]0,Y_{obs}[$."
   ]
  },
  {
   "cell_type": "markdown",
   "metadata": {},
   "source": [
    "Par souci de simplification, on omet les ${}^{*}$ et ${}_{obs}$ dans la suite. On suppose\n",
    "désormais que $\\psi\\in L^2([DA])$."
   ]
  },
  {
   "cell_type": "markdown",
   "metadata": {},
   "source": [
    "**Q.2** Écrire le problème stationnaire associé à (Padim). On le nommera (Padiminf)."
   ]
  },
  {
   "cell_type": "markdown",
   "metadata": {},
   "source": [
    "**Solution** \\begin{equation}\\tag{Padiminf}\n",
    "\\begin{cases}\n",
    "-\\partial_x(\\kappa_{x}\\ \\partial_{x}\\theta)-\\partial_y(\\kappa_{y}\\ \\partial_{y}\\theta)=0\\mbox{ dans }\\Omega\\\\\n",
    "(CL)\n",
    "\\begin{cases}\n",
    "-\\kappa_y\\partial_{y}\\theta=0 \\qquad \\mbox{ sur }[AB]\\\\\n",
    "\\theta=1 \\qquad \\mbox{ sur }[BC]\\\\\n",
    "\\kappa_y\\partial_{y}\\theta=0 \\qquad \\mbox{ sur }[CD]\\\\\n",
    "-\\kappa_x\\partial_{x}\\theta=\\psi \\qquad \\mbox{ sur }[DA],\\\\\n",
    "\\end{cases}\n",
    "\\end{cases}\n",
    "\\end{equation}$\\Box$"
   ]
  },
  {
   "cell_type": "markdown",
   "metadata": {},
   "source": [
    "**Q.3** Ecrire la formulation variationnelle de (Padiminf). La solution est-elle unique ?"
   ]
  },
  {
   "cell_type": "markdown",
   "metadata": {},
   "source": [
    "**Solution** FEniCS intègre naturellement les conditions au bord de type Dirichlet non homogène. Pour montrer le caractère bien posé en rendant le problème homogène, on peut ici faire un relèvement, par exemple dans le cas où $\\theta_0\\in C^1([0,1])$ et $\\kappa\\theta_0'\\in C^1(\\Omega)$ en  prenant $\\theta_r:(x,y)\\mapsto \\theta_0(y)$. On considère alors $\\tilde{\\theta}=\\theta-\\theta_r$ qui est solution de \n",
    "\n",
    "\\begin{equation}\n",
    "\\begin{cases}\n",
    "-\\partial_x(\\kappa_{x}\\ \\partial_{x}\\tilde{\\theta})-\\partial_y(\\kappa_{y}\\ \\partial_{y}\\tilde{\\theta})=(\\kappa_y\\theta_0')'\\mbox{ dans }\\Omega\\\\\n",
    "(CL)\n",
    "\\begin{cases}\n",
    "-\\kappa_y(\\cdot,0)\\partial_{y}\\tilde{\\theta}=\\kappa_y(\\cdot,0) \\theta_0'(0) \\qquad \\mbox{ sur }[AB]\\\\\n",
    "\\theta=0 \\qquad \\mbox{ sur }[BC]\\\\\n",
    "\\kappa_y(\\cdot,1)\\partial_{y}\\tilde{\\theta}=-\\kappa_y(\\cdot,1) \\theta_0'(1) \\qquad \\mbox{ sur }[CD]\\\\\n",
    "-\\kappa_x(0,\\cdot)\\partial_{x}\\tilde{\\theta}=\\psi \\qquad \\mbox{ sur }[DA],\\\\\n",
    "\\end{cases}\n",
    "\\end{cases}\n",
    "\\end{equation}\n",
    "\n",
    "La condition sur $[DA]$ est inchangée car $\\theta_0$ ne dépend que de $y$.\n",
    "\n",
    "La formulation variationnelle devient\n",
    "\"Trouver $\\tilde{\\theta}\\in H=\\{v\\in H^{1}(\\Omega)\\,:\\,v|_{[BC]}=0\\}$ tel que\n",
    "$$\\forall v\\in H,\\quad \\int_{\\Omega}(\\kappa_{x}\\partial_{x}\\tilde{\\theta}\\ \\partial_{x}v+\\kappa_{y}\\partial_{y}\\tilde{\\theta}\\ \\partial_{y}v)-\\int_{[DA]}\\psi v-\\int_{[AB]}\\kappa_y(0,\\cdot) \\theta_0'(0) v-\\int_{[CD]}\\kappa_y(\\cdot,1) \\theta_0'(1) v=0.\"$$ \n",
    "\n",
    "La solution cherchée est alors $\\theta=\\tilde{\\theta}+\\theta_r$.\n",
    "\n",
    "$\\Box$"
   ]
  },
  {
   "cell_type": "markdown",
   "metadata": {},
   "source": [
    "#  Démarche"
   ]
  },
  {
   "cell_type": "markdown",
   "metadata": {},
   "source": [
    "On veut approcher la solution d'un problème d'équations aux dérivées\n",
    "partielles, dont on sait qu'il est bien posé grâce à l'analyse, à l'aide d'une\n",
    "méthode éléments finis. \n",
    "\n",
    "\"Approcher\"  peut signifier plusieurs choses :\n",
    "on veut visualiser, déterminer l'ordre numérique, etc. \n",
    "\n",
    "La démarche est la suivante (les étapes sont numérotées Ci pour étape i du code) : \n",
    "- C0 : on charge les modules nécessaires ;\n",
    "- C1 : on définit les constantes ;\n",
    "- C2 : on part d'une géométrie en définissant les bords par des courbes paramétrées : les bords extérieurs étant parcourus **dans le sens trigonométrique** et les bords intérieurs **dans le sens horaire** ;\n",
    "- C3 : on fabrique un maillage ;\n",
    "- C4 : on définit l'espace dans lequel on va chercher la solution approchée ;\n",
    "- C5 : on prend en compte les conditions au bord ;\n",
    "- C6 : on définit la formulation variationnelle ;\n",
    "- C7 : on résout le système ;\n",
    "- C8: on exploite la solution.\n",
    "\n",
    "Dans la suite sont fournis des programmes. On les analysera précisément par\n",
    "rapport aux étapes décrites ci-dessus. "
   ]
  },
  {
   "cell_type": "markdown",
   "metadata": {},
   "source": [
    "#  1D : Simulation du problème stationnaire"
   ]
  },
  {
   "cell_type": "markdown",
   "metadata": {},
   "source": [
    "On détaille dans la première partie de cette section un premier programme permettant de résoudre un problème approché en dimension 1, puis l'objectif est que vous arriviez à écrire vous-même un code de résolution."
   ]
  },
  {
   "cell_type": "markdown",
   "metadata": {},
   "source": [
    "## Programme 1 : Résolution en dimension 1"
   ]
  },
  {
   "cell_type": "markdown",
   "metadata": {},
   "source": [
    "<p style=\"color:red;\">     C0 : Chargement des modules </p>"
   ]
  },
  {
   "cell_type": "code",
   "execution_count": 1,
   "metadata": {},
   "outputs": [],
   "source": [
    "from dolfin import *"
   ]
  },
  {
   "cell_type": "code",
   "execution_count": 2,
   "metadata": {},
   "outputs": [],
   "source": [
    "from __future__ import print_function\n",
    "from fenics import *\n",
    "import matplotlib.pyplot as plt"
   ]
  },
  {
   "cell_type": "markdown",
   "metadata": {},
   "source": [
    "<p style=\"color:red;\"> C1 : Définition des constantes </p>"
   ]
  },
  {
   "cell_type": "markdown",
   "metadata": {},
   "source": [
    "On fixe les constantes, le flux à gauche $\\psi$ et la précision $tol$."
   ]
  },
  {
   "cell_type": "code",
   "execution_count": 3,
   "metadata": {},
   "outputs": [],
   "source": [
    "kappaadim=1\n",
    "psiadim=1\n",
    "tol = 1E-14"
   ]
  },
  {
   "cell_type": "markdown",
   "metadata": {},
   "source": [
    "<p style=\"color:red;\"> C2 : Définition de la géométrie </p>  "
   ]
  },
  {
   "cell_type": "markdown",
   "metadata": {},
   "source": [
    "Il s'agit d'un segment de longueur adimensionnée 1."
   ]
  },
  {
   "cell_type": "code",
   "execution_count": 4,
   "metadata": {},
   "outputs": [],
   "source": [
    "X=1"
   ]
  },
  {
   "cell_type": "markdown",
   "metadata": {},
   "source": [
    "<p style=\"color:red;\"> C3 : Fabrication du maillage </p>"
   ]
  },
  {
   "cell_type": "code",
   "execution_count": 5,
   "metadata": {},
   "outputs": [
    {
     "name": "stdout",
     "output_type": "stream",
     "text": [
      "Plotting a UnitIntervalmesh1\n"
     ]
    },
    {
     "data": {
      "text/plain": [
       "[<matplotlib.lines.Line2D at 0x11428b240>]"
      ]
     },
     "execution_count": 5,
     "metadata": {},
     "output_type": "execute_result"
    },
    {
     "data": {
      "image/png": "[encoded data removed]",
      "text/plain": [
       "<Figure size 432x288 with 1 Axes>"
      ]
     },
     "metadata": {
      "needs_background": "light"
     },
     "output_type": "display_data"
    }
   ],
   "source": [
    "nx1 = 10\n",
    "\n",
    "mesh1 = UnitIntervalMesh(nx1)\n",
    "\n",
    "print(\"Plotting a UnitIntervalmesh1\")\n",
    "plt.figure(1)\n",
    "plot(mesh1, title=\"Maillage du segment\")"
   ]
  },
  {
   "cell_type": "markdown",
   "metadata": {},
   "source": [
    "<p style=\"color:red;\"> C4 : Définition de l'espace Hh dans lequel on va chercher la solution </p>"
   ]
  },
  {
   "cell_type": "code",
   "execution_count": 6,
   "metadata": {},
   "outputs": [],
   "source": [
    "Hh1 = FunctionSpace(mesh1, 'P', 1)"
   ]
  },
  {
   "cell_type": "markdown",
   "metadata": {},
   "source": [
    "<p style=\"color:red;\"> C5 : Prise en compte des conditions au bord </p>"
   ]
  },
  {
   "cell_type": "markdown",
   "metadata": {},
   "source": [
    "Les conditions au bord de Dirichlet sont à spécifier grâce à la commande FEniCS DirichletBC. Comme vu en cours, les conditions au bord de Neumann nécessitent de définir une mesure specifique sur la portion de bord concernée. Il faut donc définir les parties de bord comme des objets."
   ]
  },
  {
   "cell_type": "code",
   "execution_count": 7,
   "metadata": {},
   "outputs": [],
   "source": [
    "class DirichletBoundary1(SubDomain):\n",
    "    def inside(self, x, on_boundary):\n",
    "        return on_boundary and (abs(x[0] - 1) < tol) \n",
    "\n",
    "D_boundary1 = DirichletBoundary1()\n",
    "\n",
    "bcD1 = DirichletBC(Hh1, Constant(1.0), D_boundary1)\n",
    "\n",
    "class NeumannBoundary1(SubDomain):\n",
    "    def inside(self, x, on_boundary):\n",
    "        return on_boundary and (abs(x[0] - 0) < tol)\n",
    "\n",
    "bcN1 = NeumannBoundary1()\n",
    "\n",
    "boundaries1 = MeshFunction(\"size_t\", mesh1, mesh1.topology().dim()-1, 0)\n",
    "bcN1.mark(boundaries1,1)\n",
    "ds1 = Measure(\"ds\", domain=mesh1, subdomain_data=boundaries1)"
   ]
  },
  {
   "cell_type": "markdown",
   "metadata": {},
   "source": [
    "<p style=\"color:red;\"> C6 : Codage de la formulation variationnelle </p>"
   ]
  },
  {
   "cell_type": "code",
   "execution_count": 8,
   "metadata": {},
   "outputs": [],
   "source": [
    "u1 = TrialFunction(Hh1)\n",
    "v1 = TestFunction(Hh1)\n",
    "l1 = psiadim*v1*ds1(1)\n",
    "a1 = kappaadim*dot(grad(u1), grad(v1))*dx"
   ]
  },
  {
   "cell_type": "markdown",
   "metadata": {},
   "source": [
    "<p style=\"color:red;\"> C7 : Résolution de l'approximation variationnelle (assemblage de la matrice de rigidité et résolution du système linéaire) </p>"
   ]
  },
  {
   "cell_type": "code",
   "execution_count": 9,
   "metadata": {},
   "outputs": [],
   "source": [
    "u1 = Function(Hh1)\n",
    "solve(a1 == l1, u1, bcD1)"
   ]
  },
  {
   "cell_type": "markdown",
   "metadata": {},
   "source": [
    "<p style=\"color:red;\"> C8 : Tracé de la solution </p>"
   ]
  },
  {
   "cell_type": "code",
   "execution_count": 10,
   "metadata": {
    "scrolled": true
   },
   "outputs": [
    {
     "data": {
      "text/plain": [
       "Text(0.5, 0, 'x')"
      ]
     },
     "execution_count": 10,
     "metadata": {},
     "output_type": "execute_result"
    },
    {
     "data": {
      "image/png": "[encoded data removed]",
      "text/plain": [
       "<Figure size 432x288 with 1 Axes>"
      ]
     },
     "metadata": {
      "needs_background": "light"
     },
     "output_type": "display_data"
    }
   ],
   "source": [
    "plt.figure(2)\n",
    "plot(u1,title='Solution numérique u1')\n",
    "plt.xlabel('x')"
   ]
  },
  {
   "cell_type": "markdown",
   "metadata": {},
   "source": [
    "**Q.1** Quelle quantité visualise-t-on ? "
   ]
  },
  {
   "cell_type": "markdown",
   "metadata": {},
   "source": [
    "**Solution** La température adimensionnée $\\theta$. $\\Box$"
   ]
  },
  {
   "cell_type": "markdown",
   "metadata": {},
   "source": [
    "**Q.2** Quel est le problème approché résolu ?"
   ]
  },
  {
   "cell_type": "markdown",
   "metadata": {},
   "source": [
    "**Solution** Le problème (Padiminf) en dimension 1. $\\Box$"
   ]
  },
  {
   "cell_type": "markdown",
   "metadata": {},
   "source": [
    "## Ordre numérique de la méthode $\\mathbb{P}1$. "
   ]
  },
  {
   "cell_type": "markdown",
   "metadata": {},
   "source": [
    "**Q.1** Comment valider numériquement l'approximation variationnelle, sachant le résultat de la  Q.6 de la partie 1 ?"
   ]
  },
  {
   "cell_type": "markdown",
   "metadata": {},
   "source": [
    "**Solution** On définit la fonction thetainf que l'on projette sur le maillage.\n",
    "Pour mémoire, ici, $\\theta^{\\infty}:x\\mapsto 2-x$ et on calcule la différence. $\\Box$"
   ]
  },
  {
   "cell_type": "markdown",
   "metadata": {},
   "source": [
    "**P.1** Tracer la différence entre la solution du problème approché et la fonction thetainf = Expression(\"2-x[0]\", degree=2). \n",
    "\n",
    "Mots-clés FEniCS : *Expression*, *project*"
   ]
  },
  {
   "cell_type": "code",
   "execution_count": 11,
   "metadata": {},
   "outputs": [
    {
     "data": {
      "text/plain": [
       "Text(0.5, 0, 'x')"
      ]
     },
     "execution_count": 11,
     "metadata": {},
     "output_type": "execute_result"
    },
    {
     "data": {
      "image/png": "[encoded data removed]",
      "text/plain": [
       "<Figure size 432x288 with 1 Axes>"
      ]
     },
     "metadata": {
      "needs_background": "light"
     },
     "output_type": "display_data"
    }
   ],
   "source": [
    "# P_4_2_1\n",
    "thetainf = Expression(\"2-x[0]\", degree=2)\n",
    "err=project(u1-thetainf,Hh1)\n",
    "plu=plot(err)\n",
    "plt.title('Erreur u1-thetainf')\n",
    "plt.xlabel('x')"
   ]
  },
  {
   "cell_type": "markdown",
   "metadata": {},
   "source": [
    "**P.2** Calculer le logarithme en base 10 de la norme $L^2$ et la norme $H^1$ de l'erreur.\n",
    "\n",
    "Mots-clés FEniCS : *norm*"
   ]
  },
  {
   "cell_type": "code",
   "execution_count": 12,
   "metadata": {},
   "outputs": [
    {
     "name": "stdout",
     "output_type": "stream",
     "text": [
      "norme L2 de l'erreur= -14.88606517951825\n",
      "norme H1 de l'erreur= -14.436897275160227\n"
     ]
    }
   ],
   "source": [
    "# P_4_2_2\n",
    "import math\n",
    "print(\"norme L2 de l'erreur=\",math.log10(norm(err,'L2')))\n",
    "print(\"norme H1 de l'erreur=\",math.log10(norm(err,'H1')))"
   ]
  },
  {
   "cell_type": "markdown",
   "metadata": {},
   "source": [
    "**Q.2** Expliquer ce résultat."
   ]
  },
  {
   "cell_type": "markdown",
   "metadata": {},
   "source": [
    "**Solution** La méthode $\\mathbb{P}1$ est d'ordre 1 en norme H1, donc l'erreur est d'ordre 1/nx. Mais ici la solution est linéaire, donc la méthode est exacte... comme le montre le fait que l'erreur est d'ordre le zéro-machine."
   ]
  },
  {
   "cell_type": "markdown",
   "metadata": {},
   "source": [
    "*Remarque* Il est en général plus prudent de considérer l'erreur relative norm(u-thetainf,'H1')/norm(thetainf,'H1'). Ici, norm(thetainf,'H1') étant d'ordre 1, c'est inutile."
   ]
  },
  {
   "cell_type": "markdown",
   "metadata": {},
   "source": [
    "**P.3** On suppose jusqu'à la fin de cette section seulement que la source  $S$ est non nulle. On suppose dans cette question seulement que $S$ est uniforme égale à 1 sur tout le domaine. La solution exacte est alors $\\theta_{ex}:x\\mapsto \\theta^\\infty(x) + (1-x^2)/2$. Coder la résolution par la méthode $\\mathbb{P}1$ sous forme d'une fonction appelée error_p1 prenant en entrée le nombre de mailles nx et rendant en sortie la norme H1 de l'erreur commise.\n",
    "\n",
    "Mots-clés FEniCS : *SpatialCoordinate*, *conditional* (langage UFL)"
   ]
  },
  {
   "cell_type": "code",
   "execution_count": 13,
   "metadata": {},
   "outputs": [],
   "source": [
    "# P_4_2_3\n",
    "import numpy as np \n",
    "def error_p1(nx):\n",
    "    \n",
    "    mesh = UnitIntervalMesh(nx)\n",
    "\n",
    "    x = SpatialCoordinate(mesh)\n",
    "    \n",
    "    source = Expression(\"1\", degree=2)\n",
    "    #source = Expression(\"-pi*sin(pi*x[0])\", degree=2)\n",
    "    #source = conditional(gt(x[0], 0.5), Constant(8), Constant(0))\n",
    "    \n",
    "    Hh = FunctionSpace(mesh, 'P', 1)\n",
    "\n",
    "    class RightEdge(SubDomain):\n",
    "        def inside(self, x, on_boundary):\n",
    "            return on_boundary and (abs(x[0] - 1) < tol) \n",
    "    \n",
    "    re = RightEdge()\n",
    "    reD = DirichletBC(Hh, Constant(1.0), re)\n",
    "\n",
    "    class LeftEdge(SubDomain):\n",
    "        def inside(self, x, on_boundary):\n",
    "            return on_boundary and (abs(x[0] - 0) < tol)\n",
    "    \n",
    "    leN = LeftEdge()\n",
    "\n",
    "    boundaries = MeshFunction(\"size_t\", mesh, mesh.topology().dim()-1, 0)\n",
    "\n",
    "    leN.mark(boundaries, 1)\n",
    "\n",
    "    ds = Measure(\"ds\", domain=mesh, subdomain_data=boundaries)\n",
    "\n",
    "    u = TrialFunction(Hh)\n",
    "    v = TestFunction(Hh)\n",
    "    \n",
    "    l = v*ds(1) + source*v*dx\n",
    "    a = inner(grad(u), grad(v))*dx\n",
    "\n",
    "    u = Function(Hh)\n",
    "\n",
    "    solve(a == l, u, reD)\n",
    "\n",
    "    theta_ex = Expression(\"2.5-x[0]-pow(x[0],2)/2\", degree=2)\n",
    "    #theta_ex = Expression(\"1-sin(pi*x[0])/pi\", degree=3)\n",
    "    #theta_ex = conditional(gt(x[0], 0.5),-x[0]+3-4*pow(x[0]-0.5,2),-x[0]+3)\n",
    "    \n",
    "    err=project(u-theta_ex,Hh)\n",
    "    \n",
    "    return norm(err,'H1')"
   ]
  },
  {
   "cell_type": "markdown",
   "metadata": {},
   "source": [
    "**P.4** Calculer les erreurs commises pour nx = 8, 16, 32, 64, 128, 256, 512 et 1024. Tracer la courbe des résultats en mettant en abscisse le logarithme en base 10 de nx."
   ]
  },
  {
   "cell_type": "code",
   "execution_count": 14,
   "metadata": {},
   "outputs": [
    {
     "name": "stdout",
     "output_type": "stream",
     "text": [
      "[5.20833333e-03 1.30208333e-03 3.25520833e-04 8.13802083e-05\n",
      " 2.03450521e-05 5.08626302e-06 1.27156576e-06 3.17891439e-07]\n"
     ]
    },
    {
     "data": {
      "text/plain": [
       "Text(0, 0.5, 'erreur')"
      ]
     },
     "execution_count": 14,
     "metadata": {},
     "output_type": "execute_result"
    },
    {
     "data": {
      "image/png": "[encoded data removed]",
      "text/plain": [
       "<Figure size 432x288 with 1 Axes>"
      ]
     },
     "metadata": {
      "needs_background": "light"
     },
     "output_type": "display_data"
    }
   ],
   "source": [
    "# P_4_2_4\n",
    "import math\n",
    "\n",
    "absc = np.array([])\n",
    "result = np.array([])\n",
    "for p in range(2,10):\n",
    "    absc = np.append(absc,[pow(2,p)])\n",
    "    result = np.append(result,[error_p1(pow(2,p))])\n",
    "print(result)\n",
    "plt.loglog(absc,result)\n",
    "plt.title(\"Courbe d'erreur\")\n",
    "plt.xlabel(\"nombre de mailles\")\n",
    "plt.ylabel(\"erreur\")"
   ]
  },
  {
   "cell_type": "markdown",
   "metadata": {},
   "source": [
    "**P.5** Donner une estimation de l'ordre numérique de la méthode pour ce problème."
   ]
  },
  {
   "cell_type": "code",
   "execution_count": 15,
   "metadata": {},
   "outputs": [
    {
     "name": "stdout",
     "output_type": "stream",
     "text": [
      "-1.999999999999308\n"
     ]
    }
   ],
   "source": [
    "# P_4_2_5\n",
    "# Il suffit de calculer la pente en log-log :\n",
    "print((math.log(result[3])-math.log(result[1]))/(math.log(absc[3])-math.log(absc[1])))"
   ]
  },
  {
   "cell_type": "markdown",
   "metadata": {},
   "source": [
    "**P.6** Modifier le programme écrit en P.3 pour inclure les sources & solutions exactes $S:x\\mapsto -\\pi\\sin(\\pi x)$ & $\\theta_{ex}:x\\mapsto  1-\\sin(\\pi x)/\\pi$  et $S:x\\mapsto 8 H(x-1/2)$ & $\\theta_{ex}:x\\mapsto  -x+3-1_{x>1/2}(2x-1)^2$. Conclure."
   ]
  },
  {
   "cell_type": "markdown",
   "metadata": {},
   "source": [
    "**Solution** On trouve un ordre très légèrement inférieur à 2 pour les solutions très régulières, et 1.5 pour la solution définie par morceaux, qui est dans $H^2$. Comme on pouvait s'y attendre, l'ordre de la méthode dépend de la régularité des données, ici de la source. On peut imaginer que plus la source sera irrégulière, plus l'ordre sera proche de 1."
   ]
  },
  {
   "cell_type": "markdown",
   "metadata": {},
   "source": [
    "## Programme 2 : Résolution du même problème en dimension 2"
   ]
  },
  {
   "cell_type": "markdown",
   "metadata": {},
   "source": [
    "On revient au problème initial (Padiminf) où la source est nulle. On va maintenant définir la géométrie complète du domaine initial en deux dimensions d'espace.\n",
    "\n",
    "Voici le code en dimension 2."
   ]
  },
  {
   "cell_type": "code",
   "execution_count": 16,
   "metadata": {},
   "outputs": [
    {
     "data": {
      "image/png": "[encoded data removed]",
      "text/plain": [
       "<Figure size 432x288 with 1 Axes>"
      ]
     },
     "metadata": {
      "needs_background": "light"
     },
     "output_type": "display_data"
    }
   ],
   "source": [
    "#C0\n",
    "#from dolfin import *\n",
    "#from __future__ import print_function\n",
    "#from fenics import *\n",
    "#import matplotlib.pyplot as plt\n",
    "\n",
    "#C1\n",
    "#kappaadim=1\n",
    "#psiadim=1\n",
    "#tol = 1E-14\n",
    "\n",
    "#C2\n",
    "#X=1\n",
    "Y=1\n",
    "\n",
    "#C3\n",
    "nx2=5\n",
    "ny2=5 \n",
    "\n",
    "mesh2 = RectangleMesh(Point(0.0, 0.0), Point(X, Y), nx2, ny2, diagonal=\"left\") \n",
    "\n",
    "plt.figure(1)\n",
    "plot(mesh2, title=\"Maillage du rectangle\")\n",
    "\n",
    "#C4\n",
    "Hh2 = FunctionSpace(mesh2, 'P', 2)\n",
    "\n",
    "#C5\n",
    "class RightEdge2(SubDomain):\n",
    "    def inside(self, x, on_boundary):\n",
    "        return on_boundary and (abs(x[0] - 1) < tol) \n",
    "    \n",
    "re2 = RightEdge2()\n",
    "reD2 = DirichletBC(Hh2, Constant(1.0), re2)\n",
    "\n",
    "class LeftEdge2(SubDomain):\n",
    "    def inside(self, x, on_boundary):\n",
    "        return on_boundary and (abs(x[0] - 0) < tol)\n",
    "    \n",
    "leN2 = LeftEdge2()\n",
    "\n",
    "boundaries2 = MeshFunction(\"size_t\", mesh2, mesh2.topology().dim()-1, 0)\n",
    "\n",
    "leN2.mark(boundaries2, 1)\n",
    "\n",
    "ds2 = Measure(\"ds\", domain=mesh2, subdomain_data=boundaries2)"
   ]
  },
  {
   "cell_type": "markdown",
   "metadata": {},
   "source": [
    "**P.1** Ecrire la formulation variationnelle du problème (Padiminf) (étape C6) et tracer la solution."
   ]
  },
  {
   "cell_type": "code",
   "execution_count": 17,
   "metadata": {},
   "outputs": [],
   "source": [
    "# P_4_3_1\n",
    "u2 = TrialFunction(Hh2)\n",
    "v2 = TestFunction(Hh2)\n",
    "l2 = psiadim*v2*ds2(1)\n",
    "a2 = kappaadim*inner(grad(u2), grad(v2))*dx"
   ]
  },
  {
   "cell_type": "markdown",
   "metadata": {},
   "source": [
    "**P.2** Résoudre l'approximation variationnelle (étape C7)."
   ]
  },
  {
   "cell_type": "code",
   "execution_count": 18,
   "metadata": {},
   "outputs": [],
   "source": [
    "# P_4_3_2\n",
    "u2 = Function(Hh2)\n",
    "solve(a2 == l2, u2, reD2)"
   ]
  },
  {
   "cell_type": "markdown",
   "metadata": {},
   "source": [
    "**P.3** Tracer la solution (étape C8)."
   ]
  },
  {
   "cell_type": "code",
   "execution_count": 19,
   "metadata": {},
   "outputs": [
    {
     "data": {
      "text/plain": [
       "<matplotlib.colorbar.Colorbar at 0x114bccd68>"
      ]
     },
     "execution_count": 19,
     "metadata": {},
     "output_type": "execute_result"
    },
    {
     "data": {
      "image/png": "[encoded data removed]",
      "text/plain": [
       "<Figure size 432x288 with 2 Axes>"
      ]
     },
     "metadata": {
      "needs_background": "light"
     },
     "output_type": "display_data"
    }
   ],
   "source": [
    "# P_4_3_3\n",
    "plt.figure(2)\n",
    "plu=plot(u2)\n",
    "plt.title('Solution numérique u2')\n",
    "plt.xlabel('x')\n",
    "plt.ylabel('y')\n",
    "plt.colorbar(plu)"
   ]
  },
  {
   "cell_type": "markdown",
   "metadata": {},
   "source": [
    "**Q.1** Comment jouer sur le maillage pour se convaincre que la solution ne dépend pas de $y$ ?"
   ]
  },
  {
   "cell_type": "markdown",
   "metadata": {},
   "source": [
    "**Solution** On peut diminuer le nombre de points intérieurs sur les arêtes $[DA]$ et $[BC]$. $\\Box$\n"
   ]
  },
  {
   "cell_type": "markdown",
   "metadata": {},
   "source": [
    "**P.4** Comment implémenter la méthode $\\mathbb{P}2$ ?"
   ]
  },
  {
   "cell_type": "markdown",
   "metadata": {},
   "source": [
    "**Solution** En changeant 1 en 2 dans la définition de l'espace Hh2. $\\Box$"
   ]
  },
  {
   "cell_type": "markdown",
   "metadata": {},
   "source": [
    "**P.5** La solution vous paraît-elle visuellement correcte (on pourra tracer le gradient de $u$) ?\n",
    "\n",
    "Mots-clés FEniCS : *grad*"
   ]
  },
  {
   "cell_type": "code",
   "execution_count": 20,
   "metadata": {},
   "outputs": [
    {
     "data": {
      "text/plain": [
       "<matplotlib.quiver.Quiver at 0x114c0b9b0>"
      ]
     },
     "execution_count": 20,
     "metadata": {},
     "output_type": "execute_result"
    },
    {
     "data": {
      "image/png": "[encoded data removed]",
      "text/plain": [
       "<Figure size 432x288 with 1 Axes>"
      ]
     },
     "metadata": {
      "needs_background": "light"
     },
     "output_type": "display_data"
    }
   ],
   "source": [
    "# P_4_3_5\n",
    "plt.figure(3)\n",
    "plot(grad(u2))"
   ]
  },
  {
   "cell_type": "markdown",
   "metadata": {},
   "source": [
    "# 2D : Premiers calculs de flux intégrés"
   ]
  },
  {
   "cell_type": "markdown",
   "metadata": {},
   "source": [
    "Le flux intégré sur un bord est l'intégrale sur ce bord de la dérivée normale de la température."
   ]
  },
  {
   "cell_type": "markdown",
   "metadata": {},
   "source": [
    "**Q.1** Quelle est la valeur du flux intégré en $x=0$ ? "
   ]
  },
  {
   "cell_type": "markdown",
   "metadata": {},
   "source": [
    "**Solution** La condition au bord de Neumann sur le bord gauche implique que ce flux vaut\n",
    "$$\\int_{DA}(\\kappa_{x}\\partial_{x}\\theta)(0,y)\\cdot(-1)dy=-\\int_{DA}(-\\psi(y))dy=\\int_{X}^{0}\\psi(y)dy=-1.$$ $\\Box$"
   ]
  },
  {
   "cell_type": "markdown",
   "metadata": {},
   "source": [
    "**Q.2** Quelle est la valeur du flux intégré en $x=X$ ? "
   ]
  },
  {
   "cell_type": "markdown",
   "metadata": {},
   "source": [
    "**Solution** La valeur théorique est $-1$. \n",
    "En effet, la formule de Green appliquée à $\\int_{\\Omega}- div(\\mathcal{K} grad(\\theta))=0$ avec $\\mathcal{K}=diag(\\kappa_{x},\\kappa_{y})$ donne\n",
    "\\begin{equation*}\n",
    "0=\\int_{\\Omega}-div(\\mathcal{K} grad(\\theta))=\\int_{\\Omega} grad(1)\\cdot(\\mathcal{K} grad(\\theta))-\\int_{\\partial\\Omega}1(\\mathcal{K} grad(\\theta)\\cdot n)=\\int_{DA}\\kappa_{x}\\partial_{x}\\theta\\cdot(-1)+\\int_{BC}\\kappa_{x}\\partial_{x}\\theta\\cdot(1).\n",
    "\\end{equation*}\n",
    "Donc $$\\int_{BC}\\kappa_{x}\\partial_{x}\\theta\\cdot(1)=-\\int_{DA}\\kappa_{x}\\partial_{x}\\theta\\cdot(-1)=-1.$$ $\\Box$"
   ]
  },
  {
   "cell_type": "markdown",
   "metadata": {},
   "source": [
    "**P.1** Ecrire un code permettant de calculer le flux intégré sur le segment [DA], que l'on appellera influx, et le flux intégré sur le segment [BC], que l'on appellera outflux. On calculera la valeur absolue de la différence.\n",
    "\n",
    "Mots-clés FEniCS : *assemble*, *mark*"
   ]
  },
  {
   "cell_type": "code",
   "execution_count": 21,
   "metadata": {},
   "outputs": [
    {
     "name": "stdout",
     "output_type": "stream",
     "text": [
      "difference= 8.215650382226158e-15\n"
     ]
    }
   ],
   "source": [
    "# P_5_1\n",
    "import math\n",
    "\n",
    "nx3=5\n",
    "ny3=5\n",
    "\n",
    "mesh3 = RectangleMesh(Point(0.0, 0.0), Point(X, Y), nx3, ny3, diagonal=\"left\") \n",
    "\n",
    "Hh3 = FunctionSpace(mesh3, 'P', 1)\n",
    "\n",
    "class RightEdge3(SubDomain):\n",
    "    def inside(self, x, on_boundary):\n",
    "        return on_boundary and (abs(x[0] - 1) < tol) \n",
    "    \n",
    "re3 = RightEdge3()\n",
    "reD3 = DirichletBC(Hh3, Constant(1.0), re3)\n",
    "\n",
    "class LeftEdge3(SubDomain):\n",
    "    def inside(self, x, on_boundary):\n",
    "        return on_boundary and (abs(x[0] - 0) < tol)\n",
    "    \n",
    "leN3 = LeftEdge3()\n",
    "\n",
    "boundaries3 = MeshFunction(\"size_t\", mesh3, mesh3.topology().dim()-1, 0)\n",
    "\n",
    "leN3.mark(boundaries3, 1)\n",
    "\n",
    "ds3 = Measure(\"ds\", domain=mesh3, subdomain_data=boundaries3)\n",
    "\n",
    "u3 = TrialFunction(Hh3)\n",
    "v3 = TestFunction(Hh3)\n",
    "    \n",
    "l3 = psiadim*v3*ds3(1)\n",
    "a3 = kappaadim*inner(grad(u3), grad(v3))*dx\n",
    "\n",
    "u3 = Function(Hh3)\n",
    "\n",
    "solve(a3 == l3, u3, reD3)\n",
    "\n",
    "influx3 = assemble(Dx(u3,0)*ds3(1))\n",
    "\n",
    "re3.mark(boundaries3, 2)\n",
    "outflux3 = assemble(Dx(u3,0)*ds3(2))\n",
    "    \n",
    "print(\"difference=\",abs(influx3-outflux3))"
   ]
  },
  {
   "cell_type": "markdown",
   "metadata": {},
   "source": [
    "**Q.3** Conclure."
   ]
  },
  {
   "cell_type": "markdown",
   "metadata": {},
   "source": [
    "**Solution** Comme il n'y a pas de source dans le domaine, le flux entrant est bien égal au flux sortant !"
   ]
  },
  {
   "cell_type": "markdown",
   "metadata": {},
   "source": [
    "#  2D : Simulation du problème stationnaire avec conductivité constante et flux non constant"
   ]
  },
  {
   "cell_type": "markdown",
   "metadata": {},
   "source": [
    "On introduit une fonction flux $\\psi:y\\mapsto \\psi_{adim}y$."
   ]
  },
  {
   "cell_type": "markdown",
   "metadata": {},
   "source": [
    "**P.1** Introduire la fonction $\\psi$ dans le programme 2. On tracera le maillage et la solution comme des sous-figures.\n",
    "\n",
    "Mots-clés matplotlib : *subplot*, *colorbar* "
   ]
  },
  {
   "cell_type": "code",
   "execution_count": 22,
   "metadata": {},
   "outputs": [
    {
     "data": {
      "text/plain": [
       "<matplotlib.colorbar.Colorbar at 0x119f1d908>"
      ]
     },
     "execution_count": 22,
     "metadata": {},
     "output_type": "execute_result"
    },
    {
     "data": {
      "image/png": "[encoded data removed]",
      "text/plain": [
       "<Figure size 432x288 with 3 Axes>"
      ]
     },
     "metadata": {
      "needs_background": "light"
     },
     "output_type": "display_data"
    }
   ],
   "source": [
    "# P_6_1\n",
    "\n",
    "psi = psiadim*Expression(\"x[1]\", degree=2)\n",
    "\n",
    "nx4=200\n",
    "ny4=200 \n",
    "\n",
    "mesh4 = RectangleMesh(Point(0.0, 0.0), Point(X, Y), nx4, ny4, diagonal=\"left\") \n",
    "\n",
    "plt.figure(1)\n",
    "plt.subplots_adjust(wspace=0.7)\n",
    "plt.subplot(1, 2, 1)\n",
    "plot(mesh4, title=\"Maillage du rectangle\")\n",
    "\n",
    "Hh4 = FunctionSpace(mesh4, 'P', 1)\n",
    "\n",
    "class RightEdge4(SubDomain):\n",
    "    def inside(self, x, on_boundary):\n",
    "        return on_boundary and (abs(x[0] - 1) < tol) \n",
    "    \n",
    "re4 = RightEdge4()\n",
    "reD4 = DirichletBC(Hh4, Constant(1.0), re4)\n",
    "\n",
    "class LeftEdge4(SubDomain):\n",
    "    def inside(self, x, on_boundary):\n",
    "        return on_boundary and (abs(x[0] - 0) < tol)\n",
    "    \n",
    "leN4 = LeftEdge4()\n",
    "\n",
    "boundaries4 = MeshFunction(\"size_t\", mesh4, mesh4.topology().dim()-1, 0)\n",
    "\n",
    "leN4.mark(boundaries4, 1)\n",
    "\n",
    "ds4 = Measure(\"ds\", domain=mesh4, subdomain_data=boundaries4)\n",
    "\n",
    "u4 = TrialFunction(Hh4)\n",
    "v4 = TestFunction(Hh4)\n",
    "l4 = psi*v4*ds4(1)\n",
    "a4 = kappaadim*inner(grad(u4), grad(v4))*dx\n",
    "\n",
    "u4 = Function(Hh4)\n",
    "\n",
    "solve(a4 == l4, u4, reD4)\n",
    "\n",
    "plt.subplots_adjust(wspace=0.7)\n",
    "plt.subplot(1, 2, 2)\n",
    "plu=plot(u4)\n",
    "plt.title('Solution numérique u4')\n",
    "plt.xlabel('x')\n",
    "plt.ylabel('y')\n",
    "plt.colorbar(plu,fraction=0.046, pad=0.04)"
   ]
  },
  {
   "cell_type": "markdown",
   "metadata": {},
   "source": [
    "**P.2** Estimer l'ordre numérique de la méthode $\\mathbb{P}1$ et de la méthode $\\mathbb{P}2$ pour ce problème. Comme la solution explicite n'est pas connue, on aura choisi nx4 et ny4 grands, par exemple égaux à 200, et on comparera les solutions calculées pour des nx et ny plus petits à la solution obtenue sur le maillage fin mesh4. \n",
    "\n",
    "Mots-clés FEniCS : *linregress*"
   ]
  },
  {
   "cell_type": "code",
   "execution_count": 23,
   "metadata": {},
   "outputs": [
    {
     "name": "stdout",
     "output_type": "stream",
     "text": [
      "ordre numérique obtenu par régression linéaire : 1.5350246126851883\n"
     ]
    },
    {
     "data": {
      "image/png": "[encoded data removed]",
      "text/plain": [
       "<Figure size 432x288 with 1 Axes>"
      ]
     },
     "metadata": {
      "needs_background": "light"
     },
     "output_type": "display_data"
    }
   ],
   "source": [
    "# P_6_2\n",
    "\n",
    "nxpsi=150\n",
    "nypsi=150 \n",
    "\n",
    "def ord_psi(nx,ny,ordre):\n",
    "    meshpsi = RectangleMesh(Point(0.0, 0.0), Point(X, Y), nx, ny, diagonal=\"left\") \n",
    "\n",
    "    Hhpsi = FunctionSpace(meshpsi, 'P', ordre)\n",
    "\n",
    "    class RightEdgepsi(SubDomain):\n",
    "        def inside(self, x, on_boundary):\n",
    "            return on_boundary and (abs(x[0] - 1) < tol) \n",
    "    \n",
    "    repsi = RightEdgepsi()\n",
    "    reDpsi = DirichletBC(Hhpsi, Constant(1.0), repsi)\n",
    "\n",
    "    class LeftEdgepsi(SubDomain):\n",
    "        def inside(self, x, on_boundary):\n",
    "            return on_boundary and (abs(x[0] - 0) < tol)\n",
    "    \n",
    "    leNpsi = LeftEdgepsi()\n",
    "\n",
    "    boundariespsi = MeshFunction(\"size_t\", meshpsi, meshpsi.topology().dim()-1, 0)\n",
    "\n",
    "    leNpsi.mark(boundariespsi, 1)\n",
    "\n",
    "    dspsi = Measure(\"ds\", domain=meshpsi, subdomain_data=boundariespsi)\n",
    "\n",
    "    upsi = TrialFunction(Hhpsi)\n",
    "    vpsi = TestFunction(Hhpsi)\n",
    "    lpsi = psi*vpsi*dspsi(1)\n",
    "    apsi = kappaadim*inner(grad(upsi), grad(vpsi))*dx\n",
    "\n",
    "    upsi = Function(Hhpsi)\n",
    "\n",
    "    solve(apsi == lpsi, upsi, reDpsi)\n",
    "    \n",
    "    err=project(upsi-u4,Hh4)\n",
    "    \n",
    "    return norm(err,'H1')\n",
    "\n",
    "abscpsi = np.asarray([])\n",
    "resultpsi = np.asarray([])\n",
    "for p in range(2,15):\n",
    "    abscpsi = np.append(abscpsi,[math.log(p*10)])\n",
    "    resultpsi = np.append(resultpsi,[math.log(ord_psi(p*10,p*10,1))])\n",
    "\n",
    "plt.plot(abscpsi,resultpsi)\n",
    "plt.title(\"Courbe d'erreur\")\n",
    "plt.xlabel(\"Logarithme du nombre de mailles\")\n",
    "plt.ylabel(\"Logarithme de l'erreur\")\n",
    "\n",
    "from scipy.stats import linregress\n",
    "\n",
    "slope, intercept, r_value, std_err, p_value = linregress(abscpsi,resultpsi)\n",
    "\n",
    "print(\"ordre numérique obtenu par régression linéaire :\",-slope)"
   ]
  },
  {
   "cell_type": "markdown",
   "metadata": {},
   "source": [
    "**P.3** Donner le flux thermique sur la face $x=0$ et sur la face $x=X$. Ce résultat était-il prévisible ?"
   ]
  },
  {
   "cell_type": "code",
   "execution_count": 24,
   "metadata": {},
   "outputs": [
    {
     "name": "stdout",
     "output_type": "stream",
     "text": [
      "difference= 0.002619313528160472\n"
     ]
    }
   ],
   "source": [
    "# P_6_3\n",
    "\n",
    "influx4 = assemble(Dx(u4,0)*ds4(1))\n",
    "\n",
    "re4.mark(boundaries4, 2)\n",
    "outflux4 = assemble(Dx(u4,0)*ds4(2))\n",
    "\n",
    "print(\"difference=\",abs(influx4-outflux4))"
   ]
  },
  {
   "cell_type": "markdown",
   "metadata": {},
   "source": [
    "**Solution** Le même raisonnement qu'en Q.5.2 s'applique. Les deux flux doivent être égaux, à discrétisation près ! $\\Box$"
   ]
  },
  {
   "cell_type": "markdown",
   "metadata": {},
   "source": [
    "**Q.3** Conclure."
   ]
  },
  {
   "cell_type": "markdown",
   "metadata": {},
   "source": [
    "**Solution** La différence est du même ordre que le pas de discrétisation."
   ]
  },
  {
   "cell_type": "markdown",
   "metadata": {},
   "source": [
    "#  2D : Simulation du problème stationnaire en domaine troué fixe"
   ]
  },
  {
   "cell_type": "markdown",
   "metadata": {},
   "source": [
    "![caption](images/domaine2.png)"
   ]
  },
  {
   "cell_type": "markdown",
   "metadata": {},
   "source": [
    "## Adaptation de la géométrie"
   ]
  },
  {
   "cell_type": "markdown",
   "metadata": {},
   "source": [
    "Dans un premier temps, on va considérer que le domaine $\\Omega'$ comporte un trou central circulaire **isolé** de rayon $r$ sur le bord duquel on met donc des conditions de Neumann homogènes. \n"
   ]
  },
  {
   "cell_type": "markdown",
   "metadata": {},
   "source": [
    "Afin de pouvoir comparer sur des maillages de même taille de cellule, on fixe maintenant la taille du domaine, la position et la taille du trou, ainsi que le nombre de mailles par côté et l'ordre de la méthode. "
   ]
  },
  {
   "cell_type": "code",
   "execution_count": 25,
   "metadata": {},
   "outputs": [],
   "source": [
    "xc=X/2\n",
    "yc=Y/2\n",
    "r=0.1\n",
    "\n",
    "nx5=15\n",
    "ny5=15\n",
    "ordre = 1"
   ]
  },
  {
   "cell_type": "markdown",
   "metadata": {},
   "source": [
    "**P.1** Définir le nouveau domaine et le mailler.\n",
    "\n",
    "Mots-clés FEniCS : *Rectangle(Point(.,.),Point(.,.))*, *Circle(Point(.,.),.)*, *generate_mesh*"
   ]
  },
  {
   "cell_type": "code",
   "execution_count": 26,
   "metadata": {},
   "outputs": [
    {
     "data": {
      "text/plain": [
       "[<matplotlib.lines.Line2D at 0x11b03c940>,\n",
       " <matplotlib.lines.Line2D at 0x11b04df98>]"
      ]
     },
     "execution_count": 26,
     "metadata": {},
     "output_type": "execute_result"
    },
    {
     "data": {
      "image/png": "[encoded data removed]",
      "text/plain": [
       "<Figure size 432x288 with 1 Axes>"
      ]
     },
     "metadata": {
      "needs_background": "light"
     },
     "output_type": "display_data"
    }
   ],
   "source": [
    "# P_7_1_1\n",
    "\n",
    "from mshr import *\n",
    "\n",
    "base = Rectangle(Point(0.0, 0.0), Point(X, Y))\n",
    "hole = Circle(Point(xc, yc), r)\n",
    "mesh5 = generate_mesh(base - hole, nx5)\n",
    "\n",
    "plt.figure(1)\n",
    "plot(mesh5, title=\"Maillage du rectangle troué\")"
   ]
  },
  {
   "cell_type": "markdown",
   "metadata": {},
   "source": [
    "**P.2** Résoudre le problème sur le nouveau domaine."
   ]
  },
  {
   "cell_type": "code",
   "execution_count": 27,
   "metadata": {},
   "outputs": [
    {
     "data": {
      "text/plain": [
       "<matplotlib.colorbar.Colorbar at 0x11a5ab320>"
      ]
     },
     "execution_count": 27,
     "metadata": {},
     "output_type": "execute_result"
    },
    {
     "data": {
      "image/png": "[encoded data removed]",
      "text/plain": [
       "<Figure size 432x288 with 2 Axes>"
      ]
     },
     "metadata": {
      "needs_background": "light"
     },
     "output_type": "display_data"
    }
   ],
   "source": [
    "# P_7_1_2\n",
    "Hh5 = FunctionSpace(mesh5, 'P', ordre)\n",
    "\n",
    "class RightEdge5(SubDomain):\n",
    "    def inside(self, x, on_boundary):\n",
    "        return on_boundary and (abs(x[0] - 1) < tol) \n",
    "    \n",
    "re5 = RightEdge5()\n",
    "reD5 = DirichletBC(Hh5, Constant(1.0), re5)\n",
    "\n",
    "class LeftEdge5(SubDomain):\n",
    "    def inside(self, x, on_boundary):\n",
    "        return on_boundary and (abs(x[0] - 0) < tol)\n",
    "    \n",
    "leN5 = LeftEdge5()\n",
    "\n",
    "boundaries5 = MeshFunction(\"size_t\", mesh5, mesh5.topology().dim()-1, 0)\n",
    "\n",
    "leN5.mark(boundaries5, 1)\n",
    "\n",
    "ds5 = Measure(\"ds\", domain=mesh5, subdomain_data=boundaries5)\n",
    "\n",
    "\n",
    "u5 = TrialFunction(Hh5)\n",
    "v5 = TestFunction(Hh5)\n",
    "l5 = psi*v5*ds5(1)\n",
    "a5 = kappaadim*inner(grad(u5), grad(v5))*dx\n",
    "\n",
    "u5 = Function(Hh5)\n",
    "\n",
    "solve(a5 == l5, u5, reD5)\n",
    "\n",
    "plu=plot(u5)\n",
    "plt.title('Solution numérique u5')\n",
    "plt.xlabel('x')\n",
    "plt.ylabel('y')\n",
    "plt.colorbar(plu)"
   ]
  },
  {
   "cell_type": "markdown",
   "metadata": {},
   "source": [
    "**P.3** Comparer les flux intégrés sur la face $x=0$ et sur la face $x=L$ obtenus avec des éléments finis $\\mathbb{P}1$ puis $\\mathbb{P}2$ et commenter le résultat."
   ]
  },
  {
   "cell_type": "code",
   "execution_count": 28,
   "metadata": {},
   "outputs": [
    {
     "name": "stdout",
     "output_type": "stream",
     "text": [
      "difference= 0.0018527279808397412\n"
     ]
    }
   ],
   "source": [
    "# P_7_1_3\n",
    "\n",
    "influx5 = assemble(Dx(u5,0)*ds5(1))\n",
    "\n",
    "re5.mark(boundaries5, 2)\n",
    "outflux5 = assemble(Dx(u5,0)*ds5(2))\n",
    "print(\"difference=\",abs(outflux5-influx5))"
   ]
  },
  {
   "cell_type": "markdown",
   "metadata": {},
   "source": [
    "## Adaptation de la conductivité"
   ]
  },
  {
   "cell_type": "markdown",
   "metadata": {},
   "source": [
    "On considère à présent le domaine sans trou $\\Omega$ et on introduit une conductivité variable ${\\kappa_{var}:(x,y)\\mapsto (\\kappa-10^{-8})\\mathbf{1}_{\\{(x,y)\\in\\Omega \\,:\\, (x-X/2)^{2}+(y-Y/2)^{2}>r^{2}\\}}}+10^{-8}$."
   ]
  },
  {
   "cell_type": "markdown",
   "metadata": {},
   "source": [
    "**P.1** Coder la deuxième approche.\n",
    "\n",
    "Mots-clés FEniCS : *SpatialCoordinate*, *conditional*"
   ]
  },
  {
   "cell_type": "code",
   "execution_count": 29,
   "metadata": {},
   "outputs": [
    {
     "data": {
      "text/plain": [
       "<matplotlib.colorbar.Colorbar at 0x11aac6cc0>"
      ]
     },
     "execution_count": 29,
     "metadata": {},
     "output_type": "execute_result"
    },
    {
     "data": {
      "image/png": "[encoded data removed]",
      "text/plain": [
       "<Figure size 432x288 with 3 Axes>"
      ]
     },
     "metadata": {
      "needs_background": "light"
     },
     "output_type": "display_data"
    },
    {
     "data": {
      "image/png": "[encoded data removed]",
      "text/plain": [
       "<Figure size 432x288 with 4 Axes>"
      ]
     },
     "metadata": {
      "needs_background": "light"
     },
     "output_type": "display_data"
    }
   ],
   "source": [
    "# P_7_2_1\n",
    "\n",
    "mesh6 = RectangleMesh(Point(0.0, 0.0), Point(X, Y), nx5, ny5, diagonal=\"left\") \n",
    "\n",
    "plt.figure(1)\n",
    "plt.subplots_adjust(wspace=0.7)\n",
    "plt.subplot(1, 2, 1)\n",
    "plt.xlabel('x')\n",
    "plt.ylabel('y')\n",
    "plot(mesh6, title=\"Maillage du rectangle\")\n",
    "\n",
    "x = SpatialCoordinate(mesh6)\n",
    "kappa6 = conditional(gt((x[0]-xc)**2+(x[1]-yc)**2, r**2), kappaadim, Constant(1e-8))\n",
    "\n",
    "plt.subplot(1, 2, 2)\n",
    "plk=plot(kappa6,title='$\\kappa$')\n",
    "plt.xlabel('x')\n",
    "plt.ylabel('y')\n",
    "plt.colorbar(plk,fraction=0.046, pad=0.04)\n",
    "\n",
    "Hh6 = FunctionSpace(mesh6, 'P', ordre)\n",
    "\n",
    "class RightEdge6(SubDomain):\n",
    "    def inside(self, x, on_boundary):\n",
    "        return on_boundary and (abs(x[0] - 1) < tol) \n",
    "    \n",
    "re6 = RightEdge6()\n",
    "reD6 = DirichletBC(Hh6, Constant(1.0), re6)\n",
    "\n",
    "class LeftEdge6(SubDomain):\n",
    "    def inside(self, x, on_boundary):\n",
    "        return on_boundary and (abs(x[0] - 0) < tol)\n",
    "    \n",
    "leN6 = LeftEdge6()\n",
    "\n",
    "boundaries6 = MeshFunction(\"size_t\", mesh6, mesh6.topology().dim()-1, 0)\n",
    "\n",
    "leN6.mark(boundaries6, 1)\n",
    "\n",
    "ds6 = Measure(\"ds\", domain=mesh6, subdomain_data=boundaries6)\n",
    "            \n",
    "u6 = TrialFunction(Hh6)\n",
    "v6 = TestFunction(Hh6)\n",
    "l6 = psi*v6*ds6(1)\n",
    "a6 = kappa6*inner(grad(u6), grad(v6))*dx\n",
    "\n",
    "u6 = Function(Hh6)\n",
    "\n",
    "solve(a6 == l6, u6, reD6)\n",
    "\n",
    "w6 = conditional(gt((x[0]-xc)**2+(x[1]-yc)**2, r**2), u6, Constant(0.0))\n",
    "\n",
    "plt.figure(2)\n",
    "plt.subplots_adjust(wspace=0.7)\n",
    "plt.subplot(1, 2, 1)\n",
    "plu5=plot(u5,title='Avec trou')\n",
    "plt.xlabel('x')\n",
    "plt.ylabel('y')\n",
    "plt.colorbar(plu5,fraction=0.046, pad=0.04)\n",
    "plt.subplot(1, 2, 2)\n",
    "plu6=plot(w6,title='$\\kappa$ variable')\n",
    "plt.xlabel('x')\n",
    "plt.ylabel('y')\n",
    "plt.colorbar(plu6,fraction=0.046, pad=0.04)"
   ]
  },
  {
   "cell_type": "markdown",
   "metadata": {},
   "source": [
    "**P.2** Calculer la différence des flux intégrés calculés par chacune des deux approches. \n",
    "\n",
    "*Remarque* La différence de flux obtenue par\n",
    "la méthode de conductivité variable est beaucoup plus stable par rapport à la\n",
    "variation du rayon que la méthode du\n",
    "changement\n",
    "de géométrie, qui demande des remaillages et augmente le conditionnement de la matrice. "
   ]
  },
  {
   "cell_type": "code",
   "execution_count": 30,
   "metadata": {},
   "outputs": [
    {
     "name": "stdout",
     "output_type": "stream",
     "text": [
      "influx6= -0.4728761211767581\n",
      "outflux6= -0.5024175728829038\n",
      "différence : influx5-influx6= -0.02498135321481082  ; outflux5-outflux6= 0.002707370510495133\n"
     ]
    }
   ],
   "source": [
    "# P_7_2_2\n",
    "\n",
    "influx6 = assemble(Dx(u6,0)*ds6(1))\n",
    "print(\"influx6=\",influx6)\n",
    "\n",
    "re6.mark(boundaries6, 2)\n",
    "outflux6 = assemble(Dx(u6,0)*ds6(2))\n",
    "print(\"outflux6=\",outflux6)\n",
    "\n",
    "print(\"différence : influx5-influx6=\",influx5-influx6,\" ; outflux5-outflux6=\",outflux5-outflux6)"
   ]
  },
  {
   "cell_type": "markdown",
   "metadata": {},
   "source": [
    "**P.3** Créer un autre maillage troué avec un rayon de trou légèrement plus grand et interpoler les solutions u5 et u6 sur ce domaine. Tracer la différence. Conclure."
   ]
  },
  {
   "cell_type": "code",
   "execution_count": 31,
   "metadata": {},
   "outputs": [
    {
     "data": {
      "text/plain": [
       "<matplotlib.colorbar.Colorbar at 0x11beef550>"
      ]
     },
     "execution_count": 31,
     "metadata": {},
     "output_type": "execute_result"
    },
    {
     "data": {
      "image/png": "[encoded data removed]",
      "text/plain": [
       "<Figure size 432x288 with 2 Axes>"
      ]
     },
     "metadata": {
      "needs_background": "light"
     },
     "output_type": "display_data"
    }
   ],
   "source": [
    "# P_7_2_3\n",
    "nx7=100\n",
    "base_compare = Rectangle(Point(0.0, 0.0), Point(X, Y))\n",
    "hole_compare = Circle(Point(xc, yc), 1.1*r)\n",
    "mesh7 = generate_mesh(base - hole, nx7)\n",
    "\n",
    "P7 = FunctionSpace(mesh7, \"Lagrange\", 2)\n",
    "\n",
    "v7 = Function(P7)\n",
    "v7.interpolate(u5)\n",
    "\n",
    "w7 = Function(P7)\n",
    "w7.interpolate(u6)\n",
    "\n",
    "plu7=plot(v7-w7,title='Différence entre les deux approches')\n",
    "plt.xlabel('x')\n",
    "plt.ylabel('y')\n",
    "plt.colorbar(plu7,fraction=0.046, pad=0.04)"
   ]
  },
  {
   "cell_type": "markdown",
   "metadata": {},
   "source": [
    "**Q.1** Pourquoi met-on la conductivité à $10^{-8}$ dans le trou ? Essayer avec $0$."
   ]
  },
  {
   "cell_type": "markdown",
   "metadata": {},
   "source": [
    "**Solution**\n",
    "\n",
    "Avec $0$, la coercivité de la forme bilinéaire n'est plus assurée : le système peut ne plus être inversible. En dimension 1, si $\\kappa$ s'annule sur les mailles $[x_{i-1},x_{i}]$ et $[x_i,x_{i+1}]$, les coefficients de la ligne i de la matrice de rigidité sont nuls et la matrice n'est donc plus inversible !"
   ]
  },
  {
   "cell_type": "markdown",
   "metadata": {},
   "source": [
    "# Simulation du problème stationnaire en domaine troué aléatoirement"
   ]
  },
  {
   "cell_type": "markdown",
   "metadata": {},
   "source": [
    "On veut maintenant simuler le problème dans un domaine dont le nombre de trous, le rayon des trous et les coordonnées de leur centre suivent respectivement une loi de Poisson de paramètre 5, une loi exponentielle de paramètre 5 et une loi normale de moyenne le centre du domaine et de variance 0.1."
   ]
  },
  {
   "cell_type": "code",
   "execution_count": 32,
   "metadata": {},
   "outputs": [],
   "source": [
    "param_poisson = 5\n",
    "scale_exp = 1/5\n",
    "var_c = 0.1\n",
    "nx8 = 100\n",
    "ny8 = 100\n",
    "ordre = 2"
   ]
  },
  {
   "cell_type": "markdown",
   "metadata": {},
   "source": [
    "**P.1** Tirer le nombre de trous, leur rayon et les coordonnées de leur centre.\n",
    "\n",
    "Mots-clés numpy : *poisson*, *exponential*, *normal*"
   ]
  },
  {
   "cell_type": "code",
   "execution_count": 33,
   "metadata": {},
   "outputs": [
    {
     "name": "stdout",
     "output_type": "stream",
     "text": [
      "xcenter [0.19584413 0.56063592 0.41988976 0.36187284 0.36265192 0.74927305]\n",
      "ycenter [0.54676912 0.57576789 0.58515216 0.34172776 0.61758792 0.55164057]\n",
      "radius [0.20335816 0.0636429  0.14277092 0.48889156 0.19539346 0.40194125]\n"
     ]
    }
   ],
   "source": [
    "# P_8_1\n",
    "from numpy import *\n",
    "nb_holes = random.poisson(param_poisson)\n",
    "radius = zeros((nb_holes))\n",
    "xcenter = zeros((nb_holes))\n",
    "ycenter = zeros((nb_holes))\n",
    "\n",
    "for i in range(nb_holes):\n",
    "    radius[i] = random.exponential(scale_exp)\n",
    "    xcenter[i] = random.normal(xc,var_c)\n",
    "    ycenter[i] = random.normal(yc,var_c)\n",
    "    \n",
    "print(\"xcenter\",xcenter)\n",
    "print(\"ycenter\",ycenter)\n",
    "print(\"radius\",radius)"
   ]
  },
  {
   "cell_type": "markdown",
   "metadata": {},
   "source": [
    "**P.2** Définir la conductivité adaptée et la tracer."
   ]
  },
  {
   "cell_type": "code",
   "execution_count": 34,
   "metadata": {},
   "outputs": [
    {
     "name": "stdout",
     "output_type": "stream",
     "text": [
      "Calling FFC just-in-time (JIT) compiler, this may take some time.\n",
      "Calling FFC just-in-time (JIT) compiler, this may take some time.\n"
     ]
    },
    {
     "data": {
      "text/plain": [
       "<matplotlib.colorbar.Colorbar at 0x11cd51400>"
      ]
     },
     "execution_count": 34,
     "metadata": {},
     "output_type": "execute_result"
    },
    {
     "data": {
      "image/png": "[encoded data removed]",
      "text/plain": [
       "<Figure size 432x288 with 5 Axes>"
      ]
     },
     "metadata": {
      "needs_background": "light"
     },
     "output_type": "display_data"
    }
   ],
   "source": [
    "# P_8_2\n",
    "\n",
    "mesh8 = RectangleMesh(Point(0.0, 0.0), Point(X, Y), nx8, ny8, diagonal=\"left\") \n",
    "\n",
    "plt.figure(1)\n",
    "plt.subplots_adjust(wspace=0.7)\n",
    "plt.subplot(1, 3, 1)\n",
    "plt.xlabel('x')\n",
    "plt.ylabel('y')\n",
    "plot(mesh8, title=\"Maillage du rectangle\")\n",
    "\n",
    "x = SpatialCoordinate(mesh8)\n",
    "flaw = 0.\n",
    "maxval = 1-1e-8\n",
    "\n",
    "for i in range(nb_holes):\n",
    "    flaw = flaw + conditional(lt((x[0]-xcenter[i])**2+(x[1]-ycenter[i])**2, radius[i]**2), maxval, Constant(0))\n",
    "    \n",
    "plt.subplot(1, 3, 2)\n",
    "plk=plot(flaw,title='$flaw$')\n",
    "plt.xlabel('x')\n",
    "plt.ylabel('y')\n",
    "plt.colorbar(plk,fraction=0.046, pad=0.04)\n",
    "    \n",
    "flaw = conditional(gt(flaw,maxval),maxval,flaw)    \n",
    "kappa8 = kappaadim - flaw\n",
    "    \n",
    "plt.subplot(1, 3, 3)\n",
    "plk=plot(kappa8,title='$\\kappa8$')\n",
    "plt.xlabel('x')\n",
    "plt.ylabel('y')\n",
    "plt.colorbar(plk,fraction=0.046, pad=0.04)"
   ]
  },
  {
   "cell_type": "markdown",
   "metadata": {},
   "source": [
    "**P.3** Résoudre le problème."
   ]
  },
  {
   "cell_type": "code",
   "execution_count": 35,
   "metadata": {},
   "outputs": [
    {
     "name": "stdout",
     "output_type": "stream",
     "text": [
      "Calling FFC just-in-time (JIT) compiler, this may take some time.\n"
     ]
    },
    {
     "data": {
      "text/plain": [
       "<matplotlib.colorbar.Colorbar at 0x1204db588>"
      ]
     },
     "execution_count": 35,
     "metadata": {},
     "output_type": "execute_result"
    },
    {
     "data": {
      "image/png": "[encoded data removed]",
      "text/plain": [
       "<Figure size 432x288 with 2 Axes>"
      ]
     },
     "metadata": {
      "needs_background": "light"
     },
     "output_type": "display_data"
    }
   ],
   "source": [
    "# P_8_3\n",
    "\n",
    "Hh8 = FunctionSpace(mesh8, 'P', ordre)\n",
    "\n",
    "class RightEdge8(SubDomain):\n",
    "    def inside(self, x, on_boundary):\n",
    "        return on_boundary and (abs(x[0] - 1) < tol) \n",
    "    \n",
    "re8 = RightEdge8()\n",
    "reD8 = DirichletBC(Hh8, Constant(1.0), re8)\n",
    "\n",
    "class LeftEdge8(SubDomain):\n",
    "    def inside(self, x, on_boundary):\n",
    "        return on_boundary and (abs(x[0] - 0) < tol)\n",
    "    \n",
    "leN8 = LeftEdge8()\n",
    "\n",
    "boundaries8 = MeshFunction(\"size_t\", mesh8, mesh8.topology().dim()-1, 0)\n",
    "\n",
    "leN8.mark(boundaries8, 1)\n",
    "\n",
    "ds8 = Measure(\"ds\", domain=mesh8, subdomain_data=boundaries8)\n",
    "            \n",
    "u8 = TrialFunction(Hh8)\n",
    "v8 = TestFunction(Hh8)\n",
    "l8 = psi*v8*ds8(1)\n",
    "a8 = kappa8*inner(grad(u8), grad(v8))*dx\n",
    "\n",
    "u8 = Function(Hh8)\n",
    "\n",
    "solve(a8 == l8, u8, reD8)\n",
    "\n",
    "plt.figure(2)\n",
    "plu8=plot(u8,title='Solution numérique u8')\n",
    "plt.xlabel('x')\n",
    "plt.ylabel('y')\n",
    "plt.colorbar(plu8,fraction=0.046, pad=0.04)"
   ]
  },
  {
   "cell_type": "markdown",
   "metadata": {},
   "source": [
    "**P.4** Peut-on encore parler d'invisibilité thermique ?"
   ]
  },
  {
   "cell_type": "code",
   "execution_count": 36,
   "metadata": {},
   "outputs": [
    {
     "name": "stdout",
     "output_type": "stream",
     "text": [
      "difference= 21998479.959968254\n"
     ]
    }
   ],
   "source": [
    "# P_8_4\n",
    "\n",
    "influx8 = assemble(Dx(u8,0)*ds8(1))\n",
    "\n",
    "re8.mark(boundaries8, 2)\n",
    "outflux8 = assemble(Dx(u8,0)*ds8(2))\n",
    "\n",
    "print(\"difference=\",abs(outflux8-influx8))"
   ]
  },
  {
   "cell_type": "markdown",
   "metadata": {},
   "source": [
    "# Conclusion"
   ]
  },
  {
   "cell_type": "markdown",
   "metadata": {},
   "source": [
    "A vous d'écrire vos propres conclusions..."
   ]
  },
  {
   "cell_type": "markdown",
   "metadata": {},
   "source": [
    "# Bibliographie"
   ]
  },
  {
   "cell_type": "markdown",
   "metadata": {},
   "source": [
    "## FEniCS\n",
    "\n",
    "Documentation : https://fenicsproject.org/documentation/\n",
    "\n",
    "Getting started : http://www-users.math.umn.edu/~arnold/8445/fenics-getting-started.pdf\n",
    "\n",
    "UFL : https://fenics.readthedocs.io/projects/ufl/en/latest/manual/form_language.html\n",
    "\n"
   ]
  },
  {
   "cell_type": "markdown",
   "metadata": {},
   "source": [
    "## Markdown\n",
    "\n",
    "https://github.com/adam-p/markdown-here/wiki/Markdown-Cheatsheet\n",
    "\n"
   ]
  },
  {
   "cell_type": "code",
   "execution_count": null,
   "metadata": {},
   "outputs": [],
   "source": []
  },
  {
   "cell_type": "code",
   "execution_count": null,
   "metadata": {},
   "outputs": [],
   "source": []
  }
 ],
 "metadata": {
  "kernelspec": {
   "display_name": "Python 3",
   "language": "python",
   "name": "python3"
  },
  "language_info": {
   "codemirror_mode": {
    "name": "ipython",
    "version": 3
   },
   "file_extension": ".py",
   "mimetype": "text/x-python",
   "name": "python",
   "nbconvert_exporter": "python",
   "pygments_lexer": "ipython3",
   "version": "3.7.3"
  },
  "toc": {
   "base_numbering": 1,
   "nav_menu": {},
   "number_sections": true,
   "sideBar": true,
   "skip_h1_title": false,
   "title_cell": "Invisibilité thermique",
   "title_sidebar": "Invisibilité thermique",
   "toc_cell": true,
   "toc_position": {
    "height": "calc(100% - 180px)",
    "left": "10px",
    "top": "150px",
    "width": "189px"
   },
   "toc_section_display": true,
   "toc_window_display": true
  }
 },
 "nbformat": 4,
 "nbformat_minor": 2
}
