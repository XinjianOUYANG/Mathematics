{
 "cells": [
  {
   "cell_type": "markdown",
   "metadata": {},
   "source": [
    "# 最小二乘拟合问题的求解\n",
    "\n",
    "**欧阳鑫健， 4121156012, 电信学部**"
   ]
  },
  {
   "cell_type": "markdown",
   "metadata": {},
   "source": [
    "## 最小二乘拟合四次多项式\n",
    "\n",
    "$P(x) = c_{0}+c_{1}x+c_{2}x^{2}+c_{3}x^3+c_{4}x^4$"
   ]
  },
  {
   "cell_type": "markdown",
   "metadata": {},
   "source": [
    "![正规方程组](./正规方程组.png)"
   ]
  },
  {
   "cell_type": "code",
   "execution_count": 34,
   "metadata": {},
   "outputs": [],
   "source": [
    "import numpy as np\n",
    "\n",
    "# 算例\n",
    "X = [0.1, 0.2, 0.3, 0.4, 0.5, 0.6, 0.7, 0.8, 0.9]\n",
    "Y = [5.1234, 5.3057, 5.5687, 5.9375, 6.4370, 7.0978, 7.9493, 9.0253, 10.3627]\n",
    "Y = np.array(Y)\n",
    "#print(Y)"
   ]
  },
  {
   "cell_type": "code",
   "execution_count": 28,
   "metadata": {},
   "outputs": [
    {
     "name": "stdout",
     "output_type": "stream",
     "text": [
      "[[1.000e+00 1.000e-01 1.000e-02 1.000e-03 1.000e-04]\n",
      " [1.000e+00 2.000e-01 4.000e-02 8.000e-03 1.600e-03]\n",
      " [1.000e+00 3.000e-01 9.000e-02 2.700e-02 8.100e-03]\n",
      " [1.000e+00 4.000e-01 1.600e-01 6.400e-02 2.560e-02]\n",
      " [1.000e+00 5.000e-01 2.500e-01 1.250e-01 6.250e-02]\n",
      " [1.000e+00 6.000e-01 3.600e-01 2.160e-01 1.296e-01]\n",
      " [1.000e+00 7.000e-01 4.900e-01 3.430e-01 2.401e-01]\n",
      " [1.000e+00 8.000e-01 6.400e-01 5.120e-01 4.096e-01]\n",
      " [1.000e+00 9.000e-01 8.100e-01 7.290e-01 6.561e-01]]\n"
     ]
    }
   ],
   "source": [
    "M = 9\n",
    "N = 5\n",
    "G = np.zeros((M,N))\n",
    "for i in range(M):\n",
    "    for j in range(N):\n",
    "        G[i,j] = X[i]**j\n",
    "\n",
    "print(G)"
   ]
  },
  {
   "cell_type": "code",
   "execution_count": 42,
   "metadata": {},
   "outputs": [
    {
     "name": "stdout",
     "output_type": "stream",
     "text": [
      "c: [5.00097222 0.99268907 2.01064782 3.00333463 0.99096737]\n",
      "最小二乘拟合四次多项式为：\n",
      " p = 5.000972222298487 + 0.99268907027583*x + 2.010647823986403*x^2 + 3.003334628477546*x^3 + 0.9909673659544183*x^4\n"
     ]
    }
   ],
   "source": [
    "c = np.linalg.inv(G.T@G) @ G.T@Y\n",
    "print('c:', c)\n",
    "\n",
    "print('最小二乘拟合四次多项式为：\\n p = %s + %s*x + %s*x^2 + %s*x^3 + %s*x^4'%(c[0],c[1],c[2],c[3],c[4]))"
   ]
  },
  {
   "cell_type": "markdown",
   "metadata": {},
   "source": [
    "**给定算例的最小二乘拟合四次多项式为**\n",
    "\n",
    "$$P(x) = 5.00097222 + 0.99268907x+ 2.01064782x^{2}+ 3.00333463x^3 + 0.99096737x^4$$"
   ]
  },
  {
   "cell_type": "markdown",
   "metadata": {},
   "source": [
    "## 误差分析"
   ]
  },
  {
   "cell_type": "code",
   "execution_count": 45,
   "metadata": {},
   "outputs": [
    {
     "name": "stdout",
     "output_type": "stream",
     "text": [
      "[-5.00389310e-05  1.51825874e-04 -1.54118173e-04  1.66316962e-04\n",
      " -3.31002365e-04  2.31468522e-04  1.52952622e-04 -2.45648746e-04\n",
      "  7.82440615e-05]\n",
      "0.0005744292123220798\n"
     ]
    }
   ],
   "source": [
    "R = Y - G@c\n",
    "print(R)\n",
    "#误差\n",
    "R_norm2 = np.linalg.norm(R,2)\n",
    "print(R_norm2)"
   ]
  },
  {
   "cell_type": "markdown",
   "metadata": {},
   "source": [
    "**最小二乘拟合四次多项式的误差为**\n",
    "\n",
    "$$R = 0.0005744292123220798 < 10^{-3}$$\n",
    "\n",
    "误差在可接受范围内"
   ]
  }
 ],
 "metadata": {
  "interpreter": {
   "hash": "bb2198bf6e8142001011b6ebe5876072bfae2c57fafab7fc5e96e9ae63bd31c0"
  },
  "kernelspec": {
   "display_name": "Python 3 (ipykernel)",
   "language": "python",
   "name": "python3"
  },
  "language_info": {
   "codemirror_mode": {
    "name": "ipython",
    "version": 3
   },
   "file_extension": ".py",
   "mimetype": "text/x-python",
   "name": "python",
   "nbconvert_exporter": "python",
   "pygments_lexer": "ipython3",
   "version": "3.9.7"
  }
 },
 "nbformat": 4,
 "nbformat_minor": 2
}
