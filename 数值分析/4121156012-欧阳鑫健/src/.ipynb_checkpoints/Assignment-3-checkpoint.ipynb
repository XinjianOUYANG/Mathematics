{
 "cells": [
  {
   "cell_type": "markdown",
   "metadata": {},
   "source": [
    "# 利用迭代法求解定非线形方程及方程组\n",
    "\n",
    "**欧阳鑫健， 4121156012， 电信学部**\n",
    "\n",
    "要求：\n",
    "\n",
    "1） 误差不超过$10^{-8}$\n",
    "\n",
    "2） 必要时可应用迭代加速技术\n"
   ]
  },
  {
   "cell_type": "markdown",
   "metadata": {},
   "source": [
    "# Q1"
   ]
  },
  {
   "cell_type": "markdown",
   "metadata": {},
   "source": [
    "<img src=\"../src/A3_1.png\" width=\"800\" height=\"500\" align=\"bottom\" />"
   ]
  },
  {
   "cell_type": "code",
   "execution_count": 1,
   "metadata": {},
   "outputs": [],
   "source": [
    "import numpy as np\n",
    "from math import * \n",
    "\n",
    "Delta = 1e-8"
   ]
  },
  {
   "cell_type": "markdown",
   "metadata": {},
   "source": [
    "## 用二分法实现根的隔离\n",
    "\n",
    "先确定方程 $f(x)=0$ 的所有实根所在的区间 $[a,b]$，再按照选定的步长 $h=(b-a)/n$（n为正整数），取点 $x_k=a+k_h(k=0,1,…,n)$，逐次计算函数值 $f(x_k)$，依据函数值的异号及实根的个数确定根的隔离区间。"
   ]
  },
  {
   "cell_type": "code",
   "execution_count": 2,
   "metadata": {},
   "outputs": [
    {
     "name": "stdout",
     "output_type": "stream",
     "text": [
      "根的区间 [[4.28, 4.34]]\n"
     ]
    }
   ],
   "source": [
    "def f(x):\n",
    "    return pow(x,6)-5*pow(x,5)+3*pow(x,4)+pow(x,3)-7*pow(x,2)+7*x-20\n",
    "\n",
    "a, b = -1, 5\n",
    "n = 100\n",
    "h = (b-a)/n\n",
    "h = round(h,3)\n",
    "R, X = [], []\n",
    "for x in np.arange(a,b+h,h):\n",
    "    x=round(x,3)\n",
    "    X.append(x)\n",
    "    #零点存在定理\n",
    "    if f(x)*f(x+h)<=0: \n",
    "        R.append([x,x+h])\n",
    "\n",
    "print('根的区间',R)"
   ]
  },
  {
   "cell_type": "markdown",
   "metadata": {},
   "source": [
    "## 简单迭代法+松弛加速技术"
   ]
  },
  {
   "cell_type": "markdown",
   "metadata": {},
   "source": [
    "$$x_{k+1} = \\phi (x_k)$$"
   ]
  },
  {
   "cell_type": "code",
   "execution_count": 3,
   "metadata": {},
   "outputs": [],
   "source": [
    "# 定义合适的迭代格式\n",
    "def Phi(x):\n",
    "        return -(pow(x,6)-5*pow(x,5)+3*pow(x,4)+pow(x,3)-7*pow(x,2)-20)/7"
   ]
  },
  {
   "cell_type": "markdown",
   "metadata": {},
   "source": [
    "**Note**\n",
    "\n",
    "**上述迭代格式不收敛,使用松弛加速技术使其收敛.**\n",
    "\n",
    "<!-- ![A3_松弛加速法](../src/A3_松弛加速法.png) -->\n",
    "\n",
    "<img src=\"../src/A3_松弛加速法.png\" alt=\"松弛加速法\" width=\"600\" height=\"4000\" align=\"middle\" />"
   ]
  },
  {
   "cell_type": "code",
   "execution_count": 4,
   "metadata": {},
   "outputs": [
    {
     "name": "stdout",
     "output_type": "stream",
     "text": [
      "step 0 : x 4.333375465873948 error 0.05337546587394737\n",
      "step 1 : x 4.333777323662569 error 0.0004018577886215624\n",
      "step 2 : x 4.333754176483076 error 2.314717949314371e-05\n",
      "step 3 : x 4.33375552066089 error 1.3441778143885585e-06\n",
      "step 4 : x 4.333755442639675 error 7.802121526623296e-08\n",
      "step 5 : x 4.333755447168447 error 4.528772024059435e-09\n",
      "iterations end\n"
     ]
    }
   ],
   "source": [
    "K = 20\n",
    "xk = 4.28 # 初值选为区间左端点\n",
    "delta_k = np.inf\n",
    "# 选定松弛因子\n",
    "x = (4.28+4.34)/2\n",
    "w = -(6*pow(x,5)-25*pow(x,4)+12*pow(x,3)+3*pow(x,2)-14*x)/7 \n",
    "# print(x,w)\n",
    "\n",
    "for k in range(K):\n",
    "    if delta_k < Delta:\n",
    "        print(\"iterations end\")\n",
    "        break\n",
    "    else:\n",
    "        # 简单迭代法\n",
    "        xk1 = (Phi(xk)-w*xk)/(1-w)\n",
    "        delta_k = abs(xk1-xk)\n",
    "        xk = xk1\n",
    "        print(\"step\",k,\": x\", xk, \"error\",delta_k)"
   ]
  },
  {
   "cell_type": "code",
   "execution_count": 5,
   "metadata": {},
   "outputs": [
    {
     "name": "stdout",
     "output_type": "stream",
     "text": [
      "solution x: 4.333755447168447 \n",
      " f(x): 3.31195469271961e-07\n"
     ]
    }
   ],
   "source": [
    "print(\"solution x:\", xk,'\\n f(x):',f(xk))"
   ]
  },
  {
   "cell_type": "markdown",
   "metadata": {},
   "source": [
    "## 牛顿法\n",
    "\n",
    "$$x_{k+1} = x_{k} - \\frac{f(x_k)}{f'(x_k)}$$"
   ]
  },
  {
   "cell_type": "code",
   "execution_count": 6,
   "metadata": {},
   "outputs": [
    {
     "name": "stdout",
     "output_type": "stream",
     "text": [
      "step 0 : error 0.05742535402223874\n",
      "step 1 : error 0.003654171182486422\n",
      "step 2 : error 1.5735628964185795e-05\n",
      "step 3 : error 2.907926876517772e-10\n",
      "iterations end\n"
     ]
    }
   ],
   "source": [
    "def f1(x):\n",
    "    return 6*pow(x,5)-25*pow(x,4)+12*pow(x,3)+3*pow(x,2)-14*x+7\n",
    "\n",
    "x0 = 4.28\n",
    "K = 10\n",
    "xk = x0\n",
    "delta_k = np.inf\n",
    "for k in range(K):\n",
    "    if delta_k < Delta:\n",
    "        print(\"iterations end\")\n",
    "        break\n",
    "    else:\n",
    "        # 牛顿法\n",
    "        delta_x = f(xk)/f1(xk)\n",
    "        xk1 = xk - delta_x\n",
    "        delta_k = abs(delta_x)\n",
    "        print(\"step\",k,\": error\",delta_k)\n",
    "        xk = xk1"
   ]
  },
  {
   "cell_type": "code",
   "execution_count": 7,
   "metadata": {
    "scrolled": true
   },
   "outputs": [
    {
     "name": "stdout",
     "output_type": "stream",
     "text": [
      "solution x: 4.333755446919996 \n",
      " f(x): 1.2931877790833823e-12\n"
     ]
    }
   ],
   "source": [
    "print(\"solution x:\", xk,'\\n f(x):',f(xk))"
   ]
  },
  {
   "cell_type": "markdown",
   "metadata": {},
   "source": [
    "## 弦割法\n",
    "\n",
    "用差商代替求导\n",
    "\n",
    "$$f'(x_k) \\approx \\frac{f(x_k) - f(x_0)}{x_k - x_0} $$"
   ]
  },
  {
   "cell_type": "code",
   "execution_count": 8,
   "metadata": {},
   "outputs": [
    {
     "name": "stdout",
     "output_type": "stream",
     "text": [
      "step 0 : error 0.05100096908890893\n",
      "step 1 : error 0.003457845367855087\n",
      "step 2 : error 0.0002262490228629362\n",
      "step 3 : error 1.4839035973882955e-05\n",
      "step 4 : error 9.730983039276228e-07\n",
      "step 5 : error 6.381344680216001e-08\n",
      "step 6 : error 4.184730275455165e-09\n",
      "iterations end\n"
     ]
    }
   ],
   "source": [
    "x0 = 4.28\n",
    "K = 10\n",
    "xk = x0+h/10\n",
    "delta_k = np.inf\n",
    "for k in range(K):\n",
    "    if delta_k < Delta:\n",
    "        print(\"iterations end\")\n",
    "        break\n",
    "    else:\n",
    "        # 弦割法迭代格式\n",
    "        f1 = (f(xk)-f(x0))/(xk-x0)\n",
    "        delta_x = f(xk)/f1\n",
    "        xk1 = xk - delta_x\n",
    "        delta_k = abs(delta_x)\n",
    "        print(\"step\",k,\": error\",delta_k)\n",
    "        xk = xk1"
   ]
  },
  {
   "cell_type": "code",
   "execution_count": 9,
   "metadata": {},
   "outputs": [
    {
     "name": "stdout",
     "output_type": "stream",
     "text": [
      "solution x: 4.333755447177531 \n",
      " f(x): 3.4330486897715673e-07\n"
     ]
    }
   ],
   "source": [
    "print(\"solution x:\", xk,'\\n f(x):',f(xk))"
   ]
  },
  {
   "cell_type": "markdown",
   "metadata": {},
   "source": [
    "# Q2"
   ]
  },
  {
   "cell_type": "markdown",
   "metadata": {},
   "source": [
    "<img src=\"../src/A3_2.jpg\" width=\"800\" height=\"500\" align=\"bottom\" />"
   ]
  },
  {
   "cell_type": "markdown",
   "metadata": {},
   "source": [
    "## Q2.1\n",
    "\n",
    "<img src=\"../src/Q2.1.png\" width=\"800\" height=\"500\" align=\"bottom\" />"
   ]
  },
  {
   "cell_type": "markdown",
   "metadata": {},
   "source": [
    "### Newton Method\n",
    "\n",
    "\n",
    "$$J_f (x^{(k)}) \\Delta x^{(k)} = -f(x^{(k)})$$\n",
    "$$x^{(k+1)} = x^{(k)} + \\Delta x^{(k)}$$"
   ]
  },
  {
   "cell_type": "code",
   "execution_count": 10,
   "metadata": {},
   "outputs": [
    {
     "name": "stdout",
     "output_type": "stream",
     "text": [
      "step 0 : error 0.37124185219410927\n",
      "step 1 : error 0.14919233549665556\n",
      "step 2 : error 0.015591670926282905\n",
      "step 3 : error 0.0001380424179155084\n",
      "step 4 : error 1.1479643249364914e-08\n",
      "step 5 : error 1.3296062323438945e-16\n",
      "iterations end\n"
     ]
    }
   ],
   "source": [
    "def f(x_k):\n",
    "    f1,f2,f3 = x_k[0]**2 + x_k[1]**2 + x_k[2]**2 -1.0,\\\n",
    "                  2*x_k[0]**2 + x_k[1]**2 - 4*x_k[2],\\\n",
    "                  3*x_k[0]**2 - 4*x_k[1]**2 + x_k[2]**2\n",
    "    return np.array([f1,f2,f3])\n",
    "\n",
    "x0 = np.array([1.0,1.0,1.0]).T\n",
    "# print(np.shape(x0))\n",
    "K = 10\n",
    "x_k = x0\n",
    "delta_k = np.inf\n",
    "for k in range(K):\n",
    "    if delta_k < Delta:\n",
    "        print(\"iterations end\")\n",
    "        break\n",
    "    else:\n",
    "        f_k = f(x_k)\n",
    "        # Jacobi矩阵 计算\n",
    "        J_k = np.array([[2*x_k[0],2 *x_k[1], 2*x_k[2]],\\\n",
    "              [4*x_k[0], 2*x_k[1], -4],\\\n",
    "              [6*x_k[0], -8*x_k[1], 2*x_k[2]]])\n",
    "        #print(f_k, '\\n', J_k)\n",
    "        delta_x =  -np.linalg.inv(J_k) @ f_k\n",
    "        delta_k = np.linalg.norm(delta_x,2) / np.linalg.norm(x_k,2)\n",
    "        print(\"step\",k,\": error\",delta_k)\n",
    "        x_k = x_k + delta_x"
   ]
  },
  {
   "cell_type": "code",
   "execution_count": 11,
   "metadata": {},
   "outputs": [
    {
     "name": "stdout",
     "output_type": "stream",
     "text": [
      "solution x: [0.69828861 0.6285243  0.34256419] \n",
      " f(x): [2.22044605e-16 0.00000000e+00 4.16333634e-16]\n"
     ]
    }
   ],
   "source": [
    "print(\"solution x:\", x_k,'\\n f(x):',f_k)"
   ]
  },
  {
   "cell_type": "markdown",
   "metadata": {},
   "source": [
    "### 弦割法"
   ]
  },
  {
   "cell_type": "markdown",
   "metadata": {},
   "source": [
    "用差商代替偏导数，即用差商矩阵代替Jacobi矩阵。\n",
    "\n",
    "$$\\frac{\\partial f_i(x^{(k)})}{\\partial x_j} \\approx \\frac{f_i(x^{(k)} + e_j h) - f_i(x^{(k)})}{h} $$"
   ]
  },
  {
   "cell_type": "code",
   "execution_count": 12,
   "metadata": {},
   "outputs": [
    {
     "name": "stdout",
     "output_type": "stream",
     "text": [
      "step 0 : error 0.5408450837651694\n",
      "step 1 : error 0.17464831419865942\n",
      "step 2 : error 0.015834637482813083\n",
      "step 3 : error 0.00013821235660823093\n",
      "step 4 : error 1.250115701184215e-08\n",
      "step 5 : error 9.04044620626625e-14\n",
      "iterations end\n"
     ]
    }
   ],
   "source": [
    "def f(x_k):\n",
    "    f1,f2,f3 = x_k[0]**2 + x_k[1]**2 + x_k[2]**2 -1.0,\\\n",
    "                  2*x_k[0]**2 + x_k[1]**2 - 4*x_k[2],\\\n",
    "                  3*x_k[0]**2 - 4*x_k[1]**2 + x_k[2]**2\n",
    "    return np.array([f1,f2,f3], dtype='float')\n",
    "\n",
    "x0 = np.ones((3,1))\n",
    "# print(x0,f(x0))\n",
    "K = 20\n",
    "x_k = x0\n",
    "delta_k = np.inf\n",
    "h = 0.00001\n",
    "for k in range(K):\n",
    "    if delta_k < Delta:\n",
    "        print(\"iterations end\")\n",
    "        break\n",
    "    else:\n",
    "        f_k = f(x_k)\n",
    "        # 差商计算，用差商代替求导\n",
    "        J_k = np.zeros((3,3))\n",
    "        for i in range(3):\n",
    "            for j in range(3):\n",
    "                diff = np.zeros((3,1))\n",
    "                diff[j] = h\n",
    "                J_k[i,j] = (f(x_k+diff)-f(x_k))[i] / h\n",
    "        #print(f_k, '\\n', J_k)\n",
    "        delta_x =  -np.linalg.inv(J_k) @ f_k\n",
    "        x_k = x_k + delta_x\n",
    "        delta_k = np.linalg.norm(delta_x,2) / np.linalg.norm(x_k,2)\n",
    "        print(\"step\",k,\": error\",delta_k)"
   ]
  },
  {
   "cell_type": "code",
   "execution_count": 13,
   "metadata": {},
   "outputs": [
    {
     "name": "stdout",
     "output_type": "stream",
     "text": [
      "solution x: [[0.69828861 0.6285243  0.34256419]] \n",
      " f(x): [[1.53654867e-13 2.74669176e-13 2.31523134e-13]]\n"
     ]
    }
   ],
   "source": [
    "print(\"solution x:\", x_k.reshape((1,3)),'\\n f(x):',f_k.reshape((1,3)))"
   ]
  },
  {
   "cell_type": "markdown",
   "metadata": {},
   "source": [
    "### Broyden's method"
   ]
  },
  {
   "cell_type": "markdown",
   "metadata": {},
   "source": [
    "<img src=\"../src/A4_broyden.png\" width=\"600\" height=\"400\" align=\"bottom\" />"
   ]
  },
  {
   "cell_type": "code",
   "execution_count": 14,
   "metadata": {},
   "outputs": [
    {
     "name": "stdout",
     "output_type": "stream",
     "text": [
      "step 1 : error 0.6430097498961727\n",
      "step 2 : error 0.14393421246462418\n",
      "step 3 : error 0.04825258604381852\n",
      "step 4 : error 0.004344430750854101\n",
      "step 5 : error 0.0008556656446347084\n",
      "step 6 : error 0.0002584992591148905\n",
      "step 7 : error 4.3049546576100495e-05\n",
      "step 8 : error 1.0511292757385567e-05\n",
      "step 9 : error 3.019601766808327e-07\n",
      "step 10 : error 1.5027279942336136e-10\n",
      "iterations end\n"
     ]
    }
   ],
   "source": [
    "def f(x_k):\n",
    "    f1,f2,f3 = x_k[0]**2 + x_k[1]**2 + x_k[2]**2 -1.0,\\\n",
    "                  2*x_k[0]**2 + x_k[1]**2 - 4*x_k[2],\\\n",
    "                  3*x_k[0]**2 - 4*x_k[1]**2 + x_k[2]**2\n",
    "    return np.array([f1,f2,f3], dtype='float')\n",
    "\n",
    "x0 = np.ones((3,1))\n",
    "# print(x0,f(x0))\n",
    "K = 20\n",
    "x_k = x0\n",
    "delta_k = np.inf\n",
    "for k in range(K):\n",
    "    if delta_k < Delta:\n",
    "        print(\"iterations end\")\n",
    "        break\n",
    "\n",
    "    if k == 1:\n",
    "        # A0 = J(x0)\n",
    "        A0 = np.array([[2*x_k[0],2 *x_k[1], 2*x_k[2]],\\\n",
    "                  [4*x_k[0], 2*x_k[1], -4],\\\n",
    "                  [6*x_k[0], -8*x_k[1], 2*x_k[2]]], dtype='float')\n",
    "        delta_x =  -np.linalg.inv(A0) @ f(x_k)\n",
    "        delta_k = np.linalg.norm(delta_x,2)\n",
    "        print(\"step\",k,\": error\",delta_k)\n",
    "        x_k1 = x_k\n",
    "        x_k = x_k + delta_x        \n",
    "        A_k = A0\n",
    "        #print(x_k1,x_k,A_k)\n",
    "        \n",
    "    if k > 1:\n",
    "        # A矩阵 计算 \n",
    "        s_k = x_k - x_k1\n",
    "        y_k = f(x_k) - f(x_k1)\n",
    "        A_inv = np.linalg.inv(A_k) + (s_k - np.linalg.inv(A_k)@y_k)@s_k.T@np.linalg.inv(A_k)/(s_k.T@np.linalg.inv(A_k)@y_k)\n",
    "        \n",
    "        delta_x =  -A_inv @ f(x_k)\n",
    "        delta_k = np.linalg.norm(delta_x,2)\n",
    "        print(\"step\",k,\": error\",delta_k)\n",
    "        x_k1 = x_k\n",
    "        x_k = x_k + delta_x\n",
    "        A_k = np.linalg.inv(A_inv)"
   ]
  },
  {
   "cell_type": "code",
   "execution_count": 15,
   "metadata": {},
   "outputs": [
    {
     "name": "stdout",
     "output_type": "stream",
     "text": [
      "solution x: [[0.69828861 0.6285243  0.34256419]] \n",
      " f(x): [[1.53654867e-13 2.74669176e-13 2.31523134e-13]]\n"
     ]
    }
   ],
   "source": [
    "print(\"solution x:\", x_k.reshape((1,3)),'\\n f(x):',f_k.reshape((1,3)))"
   ]
  },
  {
   "cell_type": "markdown",
   "metadata": {},
   "source": [
    "## Q2.2\n",
    "\n",
    "<img src=\"../src/Q2.2.png\" width=\"800\" height=\"500\" align=\"bottom\" />"
   ]
  },
  {
   "cell_type": "markdown",
   "metadata": {},
   "source": [
    "## Newton Method"
   ]
  },
  {
   "cell_type": "code",
   "execution_count": 16,
   "metadata": {},
   "outputs": [
    {
     "name": "stdout",
     "output_type": "stream",
     "text": [
      "step 0 : error 0.0019331087357013642\n",
      "step 1 : error 3.7570860322303766e-06\n",
      "step 2 : error 1.9136417446461214e-11\n",
      "iterations end\n"
     ]
    }
   ],
   "source": [
    "def f(x):\n",
    "    f1,f2 = cos(x[0]**2 + 0.4*x[1]) + x[0]**2 + x[1]**2 - 1.6,\\\n",
    "                  1.5*x[0]**2 - 1/0.36*x[1]**2 - 1.0\n",
    "    return np.array([f1,f2],dtype='float')\n",
    "\n",
    "x0 = np.zeros((2,1))\n",
    "x0[0], x0[1] = 1.04,0.47\n",
    "K = 20\n",
    "x_k = x0\n",
    "delta_k = np.inf\n",
    "for k in range(K):\n",
    "    if delta_k < Delta:\n",
    "        print(\"iterations end\")\n",
    "        break\n",
    "    else:\n",
    "        f_k = f(x_k)\n",
    "        # Jacobi矩阵 计算\n",
    "        J_k = np.array([ [(-sin(x_k[0]**2 + 0.4*x_k[1])*2*x_k[0] + 2*x_k[0])[0], (-0.4*sin(x_k[0]**2 + 0.4*x_k[1]) + 2*x_k[1])[0]],\\\n",
    "                       [3*x_k[0], -2/0.36*x_k[1]]], dtype='float')\n",
    "        #print(f_k, '\\n', J_k)\n",
    "        delta_x =  -np.linalg.inv(J_k) @ f_k\n",
    "        #print(delta_x)\n",
    "        delta_k = np.linalg.norm(delta_x,2) / np.linalg.norm(x_k,2)\n",
    "        print(\"step\",k,\": error\",delta_k)\n",
    "        x_k = x_k + delta_x"
   ]
  },
  {
   "cell_type": "code",
   "execution_count": 17,
   "metadata": {},
   "outputs": [
    {
     "name": "stdout",
     "output_type": "stream",
     "text": [
      "solution x: [1.03862924 0.47172595] \n",
      " f(x): [ 1.24120714e-11 -4.02901046e-11]\n"
     ]
    }
   ],
   "source": [
    "print(\"solution x:\", x_k.reshape((2)),'\\n f(x):',f_k.reshape((2)))"
   ]
  },
  {
   "cell_type": "markdown",
   "metadata": {},
   "source": [
    "## 弦割法\n"
   ]
  },
  {
   "cell_type": "code",
   "execution_count": 18,
   "metadata": {},
   "outputs": [
    {
     "name": "stdout",
     "output_type": "stream",
     "text": [
      "step 0 : error 0.001933990591758431\n",
      "step 1 : error 3.7179114669046912e-06\n",
      "step 2 : error 6.366846130191359e-11\n",
      "iterations end\n"
     ]
    }
   ],
   "source": [
    "def f(x):\n",
    "    f1,f2 = cos(x[0]**2 + 0.4*x[1]) + x[0]**2 + x[1]**2 - 1.6,\\\n",
    "                  1.5*x[0]**2 - 1/0.36*x[1]**2 - 1.0\n",
    "    return np.array([f1,f2],dtype='float')\n",
    "\n",
    "x0 = np.zeros((2,1))\n",
    "x0[0], x0[1] = 1.04,0.47\n",
    "K = 20\n",
    "x_k = x0\n",
    "# print(x0,'\\n',f(x0))\n",
    "delta_k = np.inf\n",
    "h = 0.00001\n",
    "for k in range(K):\n",
    "    if delta_k < Delta:\n",
    "        print(\"iterations end\")\n",
    "        break\n",
    "    else:\n",
    "        f_k = f(x_k)\n",
    "        # 差商计算，用差商代替偏导\n",
    "        J_k = np.zeros((2,2))\n",
    "        for i in range(2):\n",
    "            for j in range(2):\n",
    "                diff = np.zeros((2,1))\n",
    "                diff[j] = h\n",
    "                J_k[i][j] = (f(x_k+diff)-f(x_k))[i] / h\n",
    "        #print(f_k, '\\n', J_k)\n",
    "        delta_x =  -np.linalg.inv(J_k) @ f_k\n",
    "        x_k = x_k + delta_x\n",
    "        delta_k = np.linalg.norm(delta_x,2) / np.linalg.norm(x_k,2)\n",
    "        print(\"step\",k,\": error\",delta_k)"
   ]
  },
  {
   "cell_type": "code",
   "execution_count": 19,
   "metadata": {},
   "outputs": [
    {
     "name": "stdout",
     "output_type": "stream",
     "text": [
      "solution x: [1.03862924 0.47172595] \n",
      " f(x): [ 4.11903844e-11 -1.25297106e-10]\n"
     ]
    }
   ],
   "source": [
    "print(\"solution x:\", x_k.reshape((2)),'\\n f(x):',f_k.reshape((2)))"
   ]
  },
  {
   "cell_type": "markdown",
   "metadata": {},
   "source": [
    "## Broyden's Method"
   ]
  },
  {
   "cell_type": "code",
   "execution_count": 20,
   "metadata": {},
   "outputs": [
    {
     "name": "stdout",
     "output_type": "stream",
     "text": [
      "step 1 : error 0.0022062013672188943\n",
      "step 2 : error 4.311478595807153e-06\n",
      "step 3 : error 2.566361026530101e-08\n",
      "step 4 : error 2.251475960223992e-12\n",
      "iterations end\n"
     ]
    }
   ],
   "source": [
    "def f(x):\n",
    "    f1,f2 = cos(x[0]**2 + 0.4*x[1]) + x[0]**2 + x[1]**2 - 1.6,\\\n",
    "                  1.5*x[0]**2 - 1/0.36*x[1]**2 - 1.0\n",
    "    return np.array([f1,f2],dtype='float')\n",
    "\n",
    "x0 = np.zeros((2,1))\n",
    "x0[0], x0[1] = 1.04,0.47\n",
    "# print(x0,f(x0),np.shape(f(x0)))\n",
    "K = 20\n",
    "x_k = x0\n",
    "delta_k = np.inf\n",
    "for k in range(K):\n",
    "    if delta_k < Delta:\n",
    "        print(\"iterations end\")\n",
    "        break\n",
    "    \n",
    "    if k == 1:\n",
    "        # A0 = J(x0)\n",
    "        A0 = np.array([ [(-sin(pow(x_k[0], 2) + 0.4*x_k[1])*2*x_k[0] + 2*x_k[0])[0], (-0.4*sin(pow(x_k[0], 2) + 0.4*x_k[1]) + 2*x_k[1])[0]],\\\n",
    "                       [3*x_k[0], -2/0.36*x_k[1]]], dtype='float')\n",
    "        #print(A0)\n",
    "        delta_x =  -np.linalg.inv(A0) @ f(x_k)\n",
    "        delta_k = np.linalg.norm(delta_x,2)\n",
    "        print(\"step\",k,\": error\",delta_k)\n",
    "        x_k1 = x_k\n",
    "        x_k = x_k + delta_x        \n",
    "        A_k = A0\n",
    "        #print(x_k1,x_k,A_k)\n",
    "        \n",
    "    if k > 1:\n",
    "        # A矩阵 计算 \n",
    "        s_k = x_k - x_k1\n",
    "        y_k = f(x_k) - f(x_k1)\n",
    "        A_inv = np.linalg.inv(A_k) + (s_k - np.linalg.inv(A_k)@y_k)@s_k.T@np.linalg.inv(A_k)/(s_k.T@np.linalg.inv(A_k)@y_k)\n",
    "        \n",
    "        delta_x =  -A_inv @ f(x_k)\n",
    "        delta_k = np.linalg.norm(delta_x,2)\n",
    "        print(\"step\",k,\": error\",delta_k)\n",
    "        x_k1 = x_k\n",
    "        x_k = x_k + delta_x\n",
    "        A_k = np.linalg.inv(A_inv)"
   ]
  },
  {
   "cell_type": "code",
   "execution_count": 21,
   "metadata": {},
   "outputs": [
    {
     "name": "stdout",
     "output_type": "stream",
     "text": [
      "solution x: [1.03862924 0.47172595] \n",
      " f(x): [ 4.11903844e-11 -1.25297106e-10]\n"
     ]
    }
   ],
   "source": [
    "print(\"solution x:\", x_k.reshape((2)),'\\n f(x):',f_k.reshape((2)))"
   ]
  },
  {
   "cell_type": "markdown",
   "metadata": {},
   "source": [
    "**Note**\n",
    "\n",
    "对于小规模非线性方程组，三种迭代解法(牛顿法、弦割法、布洛伊登法)收敛速度相差不大。对于上述两个算例，均在10次迭代之内收敛。\n",
    "\n",
    "三种解法解得的方程组的解也几乎一样，满足误差不超过 $10^{-8}$ 的要求。"
   ]
  },
  {
   "cell_type": "code",
   "execution_count": null,
   "metadata": {},
   "outputs": [],
   "source": []
  }
 ],
 "metadata": {
  "interpreter": {
   "hash": "aee8b7b246df8f9039afb4144a1f6fd8d2ca17a180786b69acc140d282b71a49"
  },
  "kernelspec": {
   "display_name": "Python 3",
   "language": "python",
   "name": "python3"
  },
  "language_info": {
   "codemirror_mode": {
    "name": "ipython",
    "version": 3
   },
   "file_extension": ".py",
   "mimetype": "text/x-python",
   "name": "python",
   "nbconvert_exporter": "python",
   "pygments_lexer": "ipython3",
   "version": "3.8.5"
  }
 },
 "nbformat": 4,
 "nbformat_minor": 2
}
